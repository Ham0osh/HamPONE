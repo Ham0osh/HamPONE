{
 "cells": [
  {
   "cell_type": "code",
   "execution_count": 64,
   "metadata": {},
   "outputs": [],
   "source": [
    "import numpy as np\n",
    "import pandas as pd\n",
    "import matplotlib.pyplot as pp\n",
    "from datetime import datetime\n",
    "from IPython.display import clear_output\n",
    "#%matplotlib nbagg\n",
    "%matplotlib inline"
   ]
  },
  {
   "cell_type": "code",
   "execution_count": 65,
   "metadata": {},
   "outputs": [
    {
     "ename": "MemoryError",
     "evalue": "Unable to allocate 61.0 MiB for an array with shape (2, 3999455) and data type int64",
     "output_type": "error",
     "traceback": [
      "\u001b[1;31m---------------------------------------------------------------------------\u001b[0m",
      "\u001b[1;31mMemoryError\u001b[0m                               Traceback (most recent call last)",
      "\u001b[1;32m<ipython-input-65-1d31e83c83cc>\u001b[0m in \u001b[0;36m<module>\u001b[1;34m\u001b[0m\n\u001b[1;32m----> 1\u001b[1;33m \u001b[0md\u001b[0m \u001b[1;33m=\u001b[0m \u001b[0mpd\u001b[0m\u001b[1;33m.\u001b[0m\u001b[0mread_csv\u001b[0m\u001b[1;33m(\u001b[0m\u001b[1;34m\"Hamish3.txt\"\u001b[0m\u001b[1;33m,\u001b[0m\u001b[0mdelimiter\u001b[0m\u001b[1;33m=\u001b[0m\u001b[1;34m'\\t'\u001b[0m\u001b[1;33m,\u001b[0m\u001b[0mheader\u001b[0m\u001b[1;33m=\u001b[0m\u001b[1;32mNone\u001b[0m\u001b[1;33m)\u001b[0m\u001b[1;33m\u001b[0m\u001b[1;33m\u001b[0m\u001b[0m\n\u001b[0m\u001b[0;32m      2\u001b[0m \u001b[0mchannel\u001b[0m \u001b[1;33m=\u001b[0m \u001b[0mnp\u001b[0m\u001b[1;33m.\u001b[0m\u001b[0marray\u001b[0m\u001b[1;33m(\u001b[0m\u001b[0md\u001b[0m\u001b[1;33m[\u001b[0m\u001b[1;36m0\u001b[0m\u001b[1;33m]\u001b[0m\u001b[1;33m)\u001b[0m\u001b[1;33m\u001b[0m\u001b[1;33m\u001b[0m\u001b[0m\n\u001b[0;32m      3\u001b[0m \u001b[0medge\u001b[0m \u001b[1;33m=\u001b[0m \u001b[0mnp\u001b[0m\u001b[1;33m.\u001b[0m\u001b[0marray\u001b[0m\u001b[1;33m(\u001b[0m\u001b[0md\u001b[0m\u001b[1;33m[\u001b[0m\u001b[1;36m1\u001b[0m\u001b[1;33m]\u001b[0m\u001b[1;33m)\u001b[0m\u001b[1;33m\u001b[0m\u001b[1;33m\u001b[0m\u001b[0m\n\u001b[0;32m      4\u001b[0m \u001b[0mtime\u001b[0m \u001b[1;33m=\u001b[0m \u001b[0mnp\u001b[0m\u001b[1;33m.\u001b[0m\u001b[0marray\u001b[0m\u001b[1;33m(\u001b[0m\u001b[0md\u001b[0m\u001b[1;33m[\u001b[0m\u001b[1;36m2\u001b[0m\u001b[1;33m]\u001b[0m\u001b[1;33m)\u001b[0m\u001b[1;33m\u001b[0m\u001b[1;33m\u001b[0m\u001b[0m\n",
      "\u001b[1;32m~\\AppData\\Local\\Programs\\Python\\Python38-32\\lib\\site-packages\\pandas\\io\\parsers.py\u001b[0m in \u001b[0;36mparser_f\u001b[1;34m(filepath_or_buffer, sep, delimiter, header, names, index_col, usecols, squeeze, prefix, mangle_dupe_cols, dtype, engine, converters, true_values, false_values, skipinitialspace, skiprows, skipfooter, nrows, na_values, keep_default_na, na_filter, verbose, skip_blank_lines, parse_dates, infer_datetime_format, keep_date_col, date_parser, dayfirst, cache_dates, iterator, chunksize, compression, thousands, decimal, lineterminator, quotechar, quoting, doublequote, escapechar, comment, encoding, dialect, error_bad_lines, warn_bad_lines, delim_whitespace, low_memory, memory_map, float_precision)\u001b[0m\n\u001b[0;32m    674\u001b[0m         )\n\u001b[0;32m    675\u001b[0m \u001b[1;33m\u001b[0m\u001b[0m\n\u001b[1;32m--> 676\u001b[1;33m         \u001b[1;32mreturn\u001b[0m \u001b[0m_read\u001b[0m\u001b[1;33m(\u001b[0m\u001b[0mfilepath_or_buffer\u001b[0m\u001b[1;33m,\u001b[0m \u001b[0mkwds\u001b[0m\u001b[1;33m)\u001b[0m\u001b[1;33m\u001b[0m\u001b[1;33m\u001b[0m\u001b[0m\n\u001b[0m\u001b[0;32m    677\u001b[0m \u001b[1;33m\u001b[0m\u001b[0m\n\u001b[0;32m    678\u001b[0m     \u001b[0mparser_f\u001b[0m\u001b[1;33m.\u001b[0m\u001b[0m__name__\u001b[0m \u001b[1;33m=\u001b[0m \u001b[0mname\u001b[0m\u001b[1;33m\u001b[0m\u001b[1;33m\u001b[0m\u001b[0m\n",
      "\u001b[1;32m~\\AppData\\Local\\Programs\\Python\\Python38-32\\lib\\site-packages\\pandas\\io\\parsers.py\u001b[0m in \u001b[0;36m_read\u001b[1;34m(filepath_or_buffer, kwds)\u001b[0m\n\u001b[0;32m    452\u001b[0m \u001b[1;33m\u001b[0m\u001b[0m\n\u001b[0;32m    453\u001b[0m     \u001b[1;32mtry\u001b[0m\u001b[1;33m:\u001b[0m\u001b[1;33m\u001b[0m\u001b[1;33m\u001b[0m\u001b[0m\n\u001b[1;32m--> 454\u001b[1;33m         \u001b[0mdata\u001b[0m \u001b[1;33m=\u001b[0m \u001b[0mparser\u001b[0m\u001b[1;33m.\u001b[0m\u001b[0mread\u001b[0m\u001b[1;33m(\u001b[0m\u001b[0mnrows\u001b[0m\u001b[1;33m)\u001b[0m\u001b[1;33m\u001b[0m\u001b[1;33m\u001b[0m\u001b[0m\n\u001b[0m\u001b[0;32m    455\u001b[0m     \u001b[1;32mfinally\u001b[0m\u001b[1;33m:\u001b[0m\u001b[1;33m\u001b[0m\u001b[1;33m\u001b[0m\u001b[0m\n\u001b[0;32m    456\u001b[0m         \u001b[0mparser\u001b[0m\u001b[1;33m.\u001b[0m\u001b[0mclose\u001b[0m\u001b[1;33m(\u001b[0m\u001b[1;33m)\u001b[0m\u001b[1;33m\u001b[0m\u001b[1;33m\u001b[0m\u001b[0m\n",
      "\u001b[1;32m~\\AppData\\Local\\Programs\\Python\\Python38-32\\lib\\site-packages\\pandas\\io\\parsers.py\u001b[0m in \u001b[0;36mread\u001b[1;34m(self, nrows)\u001b[0m\n\u001b[0;32m   1146\u001b[0m             \u001b[0mnew_rows\u001b[0m \u001b[1;33m=\u001b[0m \u001b[0mlen\u001b[0m\u001b[1;33m(\u001b[0m\u001b[0mindex\u001b[0m\u001b[1;33m)\u001b[0m\u001b[1;33m\u001b[0m\u001b[1;33m\u001b[0m\u001b[0m\n\u001b[0;32m   1147\u001b[0m \u001b[1;33m\u001b[0m\u001b[0m\n\u001b[1;32m-> 1148\u001b[1;33m         \u001b[0mdf\u001b[0m \u001b[1;33m=\u001b[0m \u001b[0mDataFrame\u001b[0m\u001b[1;33m(\u001b[0m\u001b[0mcol_dict\u001b[0m\u001b[1;33m,\u001b[0m \u001b[0mcolumns\u001b[0m\u001b[1;33m=\u001b[0m\u001b[0mcolumns\u001b[0m\u001b[1;33m,\u001b[0m \u001b[0mindex\u001b[0m\u001b[1;33m=\u001b[0m\u001b[0mindex\u001b[0m\u001b[1;33m)\u001b[0m\u001b[1;33m\u001b[0m\u001b[1;33m\u001b[0m\u001b[0m\n\u001b[0m\u001b[0;32m   1149\u001b[0m \u001b[1;33m\u001b[0m\u001b[0m\n\u001b[0;32m   1150\u001b[0m         \u001b[0mself\u001b[0m\u001b[1;33m.\u001b[0m\u001b[0m_currow\u001b[0m \u001b[1;33m+=\u001b[0m \u001b[0mnew_rows\u001b[0m\u001b[1;33m\u001b[0m\u001b[1;33m\u001b[0m\u001b[0m\n",
      "\u001b[1;32m~\\AppData\\Local\\Programs\\Python\\Python38-32\\lib\\site-packages\\pandas\\core\\frame.py\u001b[0m in \u001b[0;36m__init__\u001b[1;34m(self, data, index, columns, dtype, copy)\u001b[0m\n\u001b[0;32m    433\u001b[0m             )\n\u001b[0;32m    434\u001b[0m         \u001b[1;32melif\u001b[0m \u001b[0misinstance\u001b[0m\u001b[1;33m(\u001b[0m\u001b[0mdata\u001b[0m\u001b[1;33m,\u001b[0m \u001b[0mdict\u001b[0m\u001b[1;33m)\u001b[0m\u001b[1;33m:\u001b[0m\u001b[1;33m\u001b[0m\u001b[1;33m\u001b[0m\u001b[0m\n\u001b[1;32m--> 435\u001b[1;33m             \u001b[0mmgr\u001b[0m \u001b[1;33m=\u001b[0m \u001b[0minit_dict\u001b[0m\u001b[1;33m(\u001b[0m\u001b[0mdata\u001b[0m\u001b[1;33m,\u001b[0m \u001b[0mindex\u001b[0m\u001b[1;33m,\u001b[0m \u001b[0mcolumns\u001b[0m\u001b[1;33m,\u001b[0m \u001b[0mdtype\u001b[0m\u001b[1;33m=\u001b[0m\u001b[0mdtype\u001b[0m\u001b[1;33m)\u001b[0m\u001b[1;33m\u001b[0m\u001b[1;33m\u001b[0m\u001b[0m\n\u001b[0m\u001b[0;32m    436\u001b[0m         \u001b[1;32melif\u001b[0m \u001b[0misinstance\u001b[0m\u001b[1;33m(\u001b[0m\u001b[0mdata\u001b[0m\u001b[1;33m,\u001b[0m \u001b[0mma\u001b[0m\u001b[1;33m.\u001b[0m\u001b[0mMaskedArray\u001b[0m\u001b[1;33m)\u001b[0m\u001b[1;33m:\u001b[0m\u001b[1;33m\u001b[0m\u001b[1;33m\u001b[0m\u001b[0m\n\u001b[0;32m    437\u001b[0m             \u001b[1;32mimport\u001b[0m \u001b[0mnumpy\u001b[0m\u001b[1;33m.\u001b[0m\u001b[0mma\u001b[0m\u001b[1;33m.\u001b[0m\u001b[0mmrecords\u001b[0m \u001b[1;32mas\u001b[0m \u001b[0mmrecords\u001b[0m\u001b[1;33m\u001b[0m\u001b[1;33m\u001b[0m\u001b[0m\n",
      "\u001b[1;32m~\\AppData\\Local\\Programs\\Python\\Python38-32\\lib\\site-packages\\pandas\\core\\internals\\construction.py\u001b[0m in \u001b[0;36minit_dict\u001b[1;34m(data, index, columns, dtype)\u001b[0m\n\u001b[0;32m    252\u001b[0m             \u001b[0marr\u001b[0m \u001b[1;32mif\u001b[0m \u001b[1;32mnot\u001b[0m \u001b[0mis_datetime64tz_dtype\u001b[0m\u001b[1;33m(\u001b[0m\u001b[0marr\u001b[0m\u001b[1;33m)\u001b[0m \u001b[1;32melse\u001b[0m \u001b[0marr\u001b[0m\u001b[1;33m.\u001b[0m\u001b[0mcopy\u001b[0m\u001b[1;33m(\u001b[0m\u001b[1;33m)\u001b[0m \u001b[1;32mfor\u001b[0m \u001b[0marr\u001b[0m \u001b[1;32min\u001b[0m \u001b[0marrays\u001b[0m\u001b[1;33m\u001b[0m\u001b[1;33m\u001b[0m\u001b[0m\n\u001b[0;32m    253\u001b[0m         ]\n\u001b[1;32m--> 254\u001b[1;33m     \u001b[1;32mreturn\u001b[0m \u001b[0marrays_to_mgr\u001b[0m\u001b[1;33m(\u001b[0m\u001b[0marrays\u001b[0m\u001b[1;33m,\u001b[0m \u001b[0mdata_names\u001b[0m\u001b[1;33m,\u001b[0m \u001b[0mindex\u001b[0m\u001b[1;33m,\u001b[0m \u001b[0mcolumns\u001b[0m\u001b[1;33m,\u001b[0m \u001b[0mdtype\u001b[0m\u001b[1;33m=\u001b[0m\u001b[0mdtype\u001b[0m\u001b[1;33m)\u001b[0m\u001b[1;33m\u001b[0m\u001b[1;33m\u001b[0m\u001b[0m\n\u001b[0m\u001b[0;32m    255\u001b[0m \u001b[1;33m\u001b[0m\u001b[0m\n\u001b[0;32m    256\u001b[0m \u001b[1;33m\u001b[0m\u001b[0m\n",
      "\u001b[1;32m~\\AppData\\Local\\Programs\\Python\\Python38-32\\lib\\site-packages\\pandas\\core\\internals\\construction.py\u001b[0m in \u001b[0;36marrays_to_mgr\u001b[1;34m(arrays, arr_names, index, columns, dtype)\u001b[0m\n\u001b[0;32m     72\u001b[0m     \u001b[0maxes\u001b[0m \u001b[1;33m=\u001b[0m \u001b[1;33m[\u001b[0m\u001b[0mensure_index\u001b[0m\u001b[1;33m(\u001b[0m\u001b[0mcolumns\u001b[0m\u001b[1;33m)\u001b[0m\u001b[1;33m,\u001b[0m \u001b[0mindex\u001b[0m\u001b[1;33m]\u001b[0m\u001b[1;33m\u001b[0m\u001b[1;33m\u001b[0m\u001b[0m\n\u001b[0;32m     73\u001b[0m \u001b[1;33m\u001b[0m\u001b[0m\n\u001b[1;32m---> 74\u001b[1;33m     \u001b[1;32mreturn\u001b[0m \u001b[0mcreate_block_manager_from_arrays\u001b[0m\u001b[1;33m(\u001b[0m\u001b[0marrays\u001b[0m\u001b[1;33m,\u001b[0m \u001b[0marr_names\u001b[0m\u001b[1;33m,\u001b[0m \u001b[0maxes\u001b[0m\u001b[1;33m)\u001b[0m\u001b[1;33m\u001b[0m\u001b[1;33m\u001b[0m\u001b[0m\n\u001b[0m\u001b[0;32m     75\u001b[0m \u001b[1;33m\u001b[0m\u001b[0m\n\u001b[0;32m     76\u001b[0m \u001b[1;33m\u001b[0m\u001b[0m\n",
      "\u001b[1;32m~\\AppData\\Local\\Programs\\Python\\Python38-32\\lib\\site-packages\\pandas\\core\\internals\\managers.py\u001b[0m in \u001b[0;36mcreate_block_manager_from_arrays\u001b[1;34m(arrays, names, axes)\u001b[0m\n\u001b[0;32m   1668\u001b[0m \u001b[1;33m\u001b[0m\u001b[0m\n\u001b[0;32m   1669\u001b[0m     \u001b[1;32mtry\u001b[0m\u001b[1;33m:\u001b[0m\u001b[1;33m\u001b[0m\u001b[1;33m\u001b[0m\u001b[0m\n\u001b[1;32m-> 1670\u001b[1;33m         \u001b[0mblocks\u001b[0m \u001b[1;33m=\u001b[0m \u001b[0mform_blocks\u001b[0m\u001b[1;33m(\u001b[0m\u001b[0marrays\u001b[0m\u001b[1;33m,\u001b[0m \u001b[0mnames\u001b[0m\u001b[1;33m,\u001b[0m \u001b[0maxes\u001b[0m\u001b[1;33m)\u001b[0m\u001b[1;33m\u001b[0m\u001b[1;33m\u001b[0m\u001b[0m\n\u001b[0m\u001b[0;32m   1671\u001b[0m         \u001b[0mmgr\u001b[0m \u001b[1;33m=\u001b[0m \u001b[0mBlockManager\u001b[0m\u001b[1;33m(\u001b[0m\u001b[0mblocks\u001b[0m\u001b[1;33m,\u001b[0m \u001b[0maxes\u001b[0m\u001b[1;33m)\u001b[0m\u001b[1;33m\u001b[0m\u001b[1;33m\u001b[0m\u001b[0m\n\u001b[0;32m   1672\u001b[0m         \u001b[0mmgr\u001b[0m\u001b[1;33m.\u001b[0m\u001b[0m_consolidate_inplace\u001b[0m\u001b[1;33m(\u001b[0m\u001b[1;33m)\u001b[0m\u001b[1;33m\u001b[0m\u001b[1;33m\u001b[0m\u001b[0m\n",
      "\u001b[1;32m~\\AppData\\Local\\Programs\\Python\\Python38-32\\lib\\site-packages\\pandas\\core\\internals\\managers.py\u001b[0m in \u001b[0;36mform_blocks\u001b[1;34m(arrays, names, axes)\u001b[0m\n\u001b[0;32m   1736\u001b[0m \u001b[1;33m\u001b[0m\u001b[0m\n\u001b[0;32m   1737\u001b[0m     \u001b[1;32mif\u001b[0m \u001b[0mlen\u001b[0m\u001b[1;33m(\u001b[0m\u001b[0mitems_dict\u001b[0m\u001b[1;33m[\u001b[0m\u001b[1;34m\"IntBlock\"\u001b[0m\u001b[1;33m]\u001b[0m\u001b[1;33m)\u001b[0m\u001b[1;33m:\u001b[0m\u001b[1;33m\u001b[0m\u001b[1;33m\u001b[0m\u001b[0m\n\u001b[1;32m-> 1738\u001b[1;33m         \u001b[0mint_blocks\u001b[0m \u001b[1;33m=\u001b[0m \u001b[0m_multi_blockify\u001b[0m\u001b[1;33m(\u001b[0m\u001b[0mitems_dict\u001b[0m\u001b[1;33m[\u001b[0m\u001b[1;34m\"IntBlock\"\u001b[0m\u001b[1;33m]\u001b[0m\u001b[1;33m)\u001b[0m\u001b[1;33m\u001b[0m\u001b[1;33m\u001b[0m\u001b[0m\n\u001b[0m\u001b[0;32m   1739\u001b[0m         \u001b[0mblocks\u001b[0m\u001b[1;33m.\u001b[0m\u001b[0mextend\u001b[0m\u001b[1;33m(\u001b[0m\u001b[0mint_blocks\u001b[0m\u001b[1;33m)\u001b[0m\u001b[1;33m\u001b[0m\u001b[1;33m\u001b[0m\u001b[0m\n\u001b[0;32m   1740\u001b[0m \u001b[1;33m\u001b[0m\u001b[0m\n",
      "\u001b[1;32m~\\AppData\\Local\\Programs\\Python\\Python38-32\\lib\\site-packages\\pandas\\core\\internals\\managers.py\u001b[0m in \u001b[0;36m_multi_blockify\u001b[1;34m(tuples, dtype)\u001b[0m\n\u001b[0;32m   1818\u001b[0m     \u001b[1;32mfor\u001b[0m \u001b[0mdtype\u001b[0m\u001b[1;33m,\u001b[0m \u001b[0mtup_block\u001b[0m \u001b[1;32min\u001b[0m \u001b[0mgrouper\u001b[0m\u001b[1;33m:\u001b[0m\u001b[1;33m\u001b[0m\u001b[1;33m\u001b[0m\u001b[0m\n\u001b[0;32m   1819\u001b[0m \u001b[1;33m\u001b[0m\u001b[0m\n\u001b[1;32m-> 1820\u001b[1;33m         \u001b[0mvalues\u001b[0m\u001b[1;33m,\u001b[0m \u001b[0mplacement\u001b[0m \u001b[1;33m=\u001b[0m \u001b[0m_stack_arrays\u001b[0m\u001b[1;33m(\u001b[0m\u001b[0mlist\u001b[0m\u001b[1;33m(\u001b[0m\u001b[0mtup_block\u001b[0m\u001b[1;33m)\u001b[0m\u001b[1;33m,\u001b[0m \u001b[0mdtype\u001b[0m\u001b[1;33m)\u001b[0m\u001b[1;33m\u001b[0m\u001b[1;33m\u001b[0m\u001b[0m\n\u001b[0m\u001b[0;32m   1821\u001b[0m \u001b[1;33m\u001b[0m\u001b[0m\n\u001b[0;32m   1822\u001b[0m         \u001b[0mblock\u001b[0m \u001b[1;33m=\u001b[0m \u001b[0mmake_block\u001b[0m\u001b[1;33m(\u001b[0m\u001b[0mvalues\u001b[0m\u001b[1;33m,\u001b[0m \u001b[0mplacement\u001b[0m\u001b[1;33m=\u001b[0m\u001b[0mplacement\u001b[0m\u001b[1;33m)\u001b[0m\u001b[1;33m\u001b[0m\u001b[1;33m\u001b[0m\u001b[0m\n",
      "\u001b[1;32m~\\AppData\\Local\\Programs\\Python\\Python38-32\\lib\\site-packages\\pandas\\core\\internals\\managers.py\u001b[0m in \u001b[0;36m_stack_arrays\u001b[1;34m(tuples, dtype)\u001b[0m\n\u001b[0;32m   1846\u001b[0m     \u001b[0mshape\u001b[0m \u001b[1;33m=\u001b[0m \u001b[1;33m(\u001b[0m\u001b[0mlen\u001b[0m\u001b[1;33m(\u001b[0m\u001b[0marrays\u001b[0m\u001b[1;33m)\u001b[0m\u001b[1;33m,\u001b[0m\u001b[1;33m)\u001b[0m \u001b[1;33m+\u001b[0m \u001b[0m_shape_compat\u001b[0m\u001b[1;33m(\u001b[0m\u001b[0mfirst\u001b[0m\u001b[1;33m)\u001b[0m\u001b[1;33m\u001b[0m\u001b[1;33m\u001b[0m\u001b[0m\n\u001b[0;32m   1847\u001b[0m \u001b[1;33m\u001b[0m\u001b[0m\n\u001b[1;32m-> 1848\u001b[1;33m     \u001b[0mstacked\u001b[0m \u001b[1;33m=\u001b[0m \u001b[0mnp\u001b[0m\u001b[1;33m.\u001b[0m\u001b[0mempty\u001b[0m\u001b[1;33m(\u001b[0m\u001b[0mshape\u001b[0m\u001b[1;33m,\u001b[0m \u001b[0mdtype\u001b[0m\u001b[1;33m=\u001b[0m\u001b[0mdtype\u001b[0m\u001b[1;33m)\u001b[0m\u001b[1;33m\u001b[0m\u001b[1;33m\u001b[0m\u001b[0m\n\u001b[0m\u001b[0;32m   1849\u001b[0m     \u001b[1;32mfor\u001b[0m \u001b[0mi\u001b[0m\u001b[1;33m,\u001b[0m \u001b[0marr\u001b[0m \u001b[1;32min\u001b[0m \u001b[0menumerate\u001b[0m\u001b[1;33m(\u001b[0m\u001b[0marrays\u001b[0m\u001b[1;33m)\u001b[0m\u001b[1;33m:\u001b[0m\u001b[1;33m\u001b[0m\u001b[1;33m\u001b[0m\u001b[0m\n\u001b[0;32m   1850\u001b[0m         \u001b[0mstacked\u001b[0m\u001b[1;33m[\u001b[0m\u001b[0mi\u001b[0m\u001b[1;33m]\u001b[0m \u001b[1;33m=\u001b[0m \u001b[0m_asarray_compat\u001b[0m\u001b[1;33m(\u001b[0m\u001b[0marr\u001b[0m\u001b[1;33m)\u001b[0m\u001b[1;33m\u001b[0m\u001b[1;33m\u001b[0m\u001b[0m\n",
      "\u001b[1;31mMemoryError\u001b[0m: Unable to allocate 61.0 MiB for an array with shape (2, 3999455) and data type int64"
     ]
    }
   ],
   "source": [
    "d = pd.read_csv(\"Hamish3.txt\",delimiter='\\t',header=None)\n",
    "channel = np.array(d[0])\n",
    "edge = np.array(d[1])\n",
    "time = np.array(d[2])"
   ]
  },
  {
   "cell_type": "markdown",
   "metadata": {},
   "source": [
    "# Data Overview"
   ]
  },
  {
   "cell_type": "code",
   "execution_count": null,
   "metadata": {},
   "outputs": [],
   "source": [
    "bns = 1*1000 # 1 second times 1000 ms to bin every ms\n",
    "cn1=1\n",
    "cn2=2\n",
    "cn3=3\n",
    "cn4=4\n",
    "endTime=1e9 #1 second\n",
    "\n",
    "pp.close()\n",
    "pp.hist(time[np.where(np.logical_and(np.logical_and(channel==cn1,edge==0),time<=endTime))],bins=bns,label=\"First\", histtype=\"barstacked\")\n",
    "pp.hist(time[np.where(np.logical_and(np.logical_and(channel==cn2,edge==0),time<=endTime))],bins=bns,label=\"Second\", histtype=\"barstacked\")\n",
    "pp.hist(time[np.where(np.logical_and(np.logical_and(channel==cn3,edge==0),time<=endTime))],bins=bns,label=\"Third\", histtype=\"barstacked\")\n",
    "pp.hist(time[np.where(np.logical_and(np.logical_and(channel==cn4,edge==0),time<=endTime))],bins=bns,label=\"Fourth\", histtype=\"barstacked\")\n",
    "#pp.hist(time[channel==0],bins=bns,label=\"live time\",histtype=\"step\")\n",
    "pp.yscale(\"log\")\n",
    "pp.legend(loc=\"upper left\")\n",
    "pp.xlabel(\"Time [s]\")\n",
    "pp.ylabel(\"Event Rate\")\n",
    "pp.title(\"Quiet Data rising edges over 1 second (1 bin per ms)\")\n",
    "pp.grid()\n",
    "pp.show()"
   ]
  },
  {
   "cell_type": "code",
   "execution_count": null,
   "metadata": {},
   "outputs": [],
   "source": [
    "pp.close()\n",
    "bns = 6000\n",
    "cn1=1\n",
    "cn2=2\n",
    "cn3=3\n",
    "cn4=4\n",
    "endTime=60*1e9 #1 min\n",
    "\n",
    "pp.close()\n",
    "pp.hist(time[np.where(np.logical_and(np.logical_and(channel==cn2,edge==0),time<=endTime))],bins=bns,label=\"Second\", histtype=\"barstacked\")\n",
    "pp.hist(time[np.where(np.logical_and(np.logical_and(channel==cn3,edge==0),time<=endTime))],bins=bns,label=\"Third\", histtype=\"barstacked\")\n",
    "pp.hist(time[np.where(np.logical_and(np.logical_and(channel==cn4,edge==0),time<=endTime))],bins=bns,label=\"Fourth\", histtype=\"barstacked\")\n",
    "#pp.hist(time[channel==0],bins=bns,label=\"live time\",histtype=\"step\")\n",
    "pp.yscale(\"log\")\n",
    "pp.legend(loc=\"upper left\")\n",
    "pp.xlabel(\"Time [s]\")\n",
    "pp.ylabel(\"Event Rate\")\n",
    "pp.title(\"Quiet Data rising edges over 1 minute (1 bin per 2 ms)\")\n",
    "pp.grid()\n",
    "pp.show()"
   ]
  },
  {
   "cell_type": "code",
   "execution_count": null,
   "metadata": {},
   "outputs": [],
   "source": [
    "bns = 200 # 1 second times 1000 ms to bin every ms\n",
    "cn1=1\n",
    "cn2=2\n",
    "cn3=3\n",
    "cn4=4\n",
    "endTime=1e9 #1 second\n",
    "\n",
    "pp.close()\n",
    "pp.hist(time[np.where(np.logical_and(np.logical_and(channel==cn1,edge==0),time<=endTime))],bins=bns,label=\"First\", histtype=\"barstacked\")\n",
    "pp.hist(time[np.where(np.logical_and(np.logical_and(channel==cn2,edge==0),time<=endTime))],bins=bns,label=\"Second\", histtype=\"barstacked\")\n",
    "pp.hist(time[np.where(np.logical_and(np.logical_and(channel==cn3,edge==0),time<=endTime))],bins=bns,label=\"Third\", histtype=\"barstacked\")\n",
    "pp.hist(time[np.where(np.logical_and(np.logical_and(channel==cn4,edge==0),time<=endTime))],bins=bns,label=\"Fourth\", histtype=\"barstacked\")\n",
    "#pp.hist(time[channel==0],bins=bns,label=\"live time\",histtype=\"step\")\n",
    "pp.yscale(\"log\")\n",
    "pp.legend(loc=\"upper left\")\n",
    "pp.xlabel(\"Time [s]\")\n",
    "pp.ylabel(\"Event Rate\")\n",
    "pp.title(\"Quiet Data rising edges over 1 second (200 bins)\")\n",
    "pp.grid()\n",
    "pp.show()"
   ]
  },
  {
   "cell_type": "code",
   "execution_count": null,
   "metadata": {},
   "outputs": [],
   "source": [
    "pp.close()\n",
    "bns = 200\n",
    "cn1=1\n",
    "cn2=2\n",
    "cn3=3\n",
    "cn4=4\n",
    "endTime=60*1e9 #1 min\n",
    "#60463699912.9\n",
    "\n",
    "pp.close()\n",
    "pp.hist(time[np.where(np.logical_and(np.logical_and(channel==cn1,edge==0),time<=endTime))],bins=bns,label=\"Firsy\", histtype=\"barstacked\")\n",
    "pp.hist(time[np.where(np.logical_and(np.logical_and(channel==cn2,edge==0),time<=endTime))],bins=bns,label=\"Second\", histtype=\"barstacked\")\n",
    "pp.hist(time[np.where(np.logical_and(np.logical_and(channel==cn3,edge==0),time<=endTime))],bins=bns,label=\"Third\", histtype=\"barstacked\")\n",
    "pp.hist(time[np.where(np.logical_and(np.logical_and(channel==cn4,edge==0),time<=endTime))],bins=bns,label=\"Fourth\", histtype=\"barstacked\")\n",
    "#pp.hist(time[channel==0],bins=bns,label=\"live time\",histtype=\"step\")\n",
    "pp.yscale(\"log\")\n",
    "pp.legend(loc=\"upper left\")\n",
    "pp.xlabel(\"Time [s]\")\n",
    "pp.ylabel(\"Event Rate\")\n",
    "pp.title(\"Quiet Data rising edges over 1 minute (200 bins)\")\n",
    "pp.grid()\n",
    "pp.show()"
   ]
  },
  {
   "cell_type": "markdown",
   "metadata": {},
   "source": [
    "## Start Cutting 'n' hits per bin"
   ]
  },
  {
   "cell_type": "code",
   "execution_count": 137,
   "metadata": {},
   "outputs": [
    {
     "data": {
      "image/png": "[encoded data removed]",
      "text/plain": [
       "<Figure size 432x288 with 1 Axes>"
      ]
     },
     "metadata": {
      "needs_background": "light"
     },
     "output_type": "display_data"
    },
    {
     "name": "stdout",
     "output_type": "stream",
     "text": [
      "# bins\n",
      "60000\n",
      "# bins with low occurances\n",
      "944\n",
      "# bins with more occurances\n",
      "59056\n"
     ]
    }
   ],
   "source": [
    "startTime = 0*1e9 #10 secs , 10000 bins = 1bin per 1ms\n",
    "endTime = 60*1e9\n",
    "nBins = 60000\n",
    "ti = endTime - startTime\n",
    "ms = 1e6 # ms\n",
    "binRate = round((ti/ms)/nBins,0)\n",
    "cutOff = 5 #hits per bin\n",
    "counts, edges, plot = pp.hist(time[np.where(np.logical_and(np.logical_and(np.logical_and(channel==cn4,edge==0),time<=endTime),time>=startTime))],bins=nBins,label=\"Fourth\", histtype=\"barstacked\", color = 'Green')\n",
    "\n",
    "pp.title(\"Hits in \" + str(binRate) + \" ms bins w/ \" + str(cutOff) + \" bin cutoff\")\n",
    "pp.xlabel(\"Time from 0 to 60 seconds\")\n",
    "pp.ylabel(\"Counts\")\n",
    "pp.legend()\n",
    "pp.axhline(cutOff, color = 'Gold')\n",
    "pp.show()\n",
    "\n",
    "lowOccuranceBins = []\n",
    "otherBins = []\n",
    "for _ in range(len(counts)):\n",
    "    occ = counts[_]\n",
    "    if (occ > 0 and occ <= cutOff):\n",
    "        lowOccuranceBins.append([_*1e6 + startTime, occ])\n",
    "    else:\n",
    "        otherBins.append([_, occ])\n",
    "\n",
    "print(\"# bins\")\n",
    "print(len(counts))\n",
    "print(\"# bins with low occurances\")\n",
    "print(len(lowOccuranceBins))\n",
    "print(\"# bins with more occurances\")\n",
    "print(len(otherBins))"
   ]
  },
  {
   "cell_type": "code",
   "execution_count": 138,
   "metadata": {},
   "outputs": [],
   "source": [
    "#display(counts)"
   ]
  },
  {
   "cell_type": "code",
   "execution_count": 139,
   "metadata": {},
   "outputs": [
    {
     "name": "stdout",
     "output_type": "stream",
     "text": [
      "0.0\n"
     ]
    }
   ],
   "source": [
    "print(lowOccuranceBins[0][0])"
   ]
  },
  {
   "cell_type": "code",
   "execution_count": 140,
   "metadata": {},
   "outputs": [
    {
     "data": {
      "text/plain": [
       "944"
      ]
     },
     "metadata": {},
     "output_type": "display_data"
    },
    {
     "data": {
      "text/plain": [
       "'~~~~~'"
      ]
     },
     "metadata": {},
     "output_type": "display_data"
    },
    {
     "data": {
      "text/plain": [
       "933"
      ]
     },
     "metadata": {},
     "output_type": "display_data"
    },
    {
     "name": "stdout",
     "output_type": "stream",
     "text": [
      "[[0.0, 1000000.0], [33000000.0, 34000000.0], [63000000.0, 64000000.0], [144000000.0, 145000000.0], [177000000.0, 178000000.0], [206000000.0, 207000000.0], [240000000.0, 241000000.0], [313000000.0, 314000000.0], [318000000.0, 319000000.0], [350000000.0, 351000000.0], [565000000.0, 566000000.0], [622000000.0, 623000000.0], [632000000.0, 633000000.0], [651000000.0, 652000000.0], [664000000.0, 665000000.0], [720000000.0, 721000000.0], [947000000.0, 948000000.0], [1148000000.0, 1149000000.0], [1173000000.0, 1174000000.0], [1225000000.0, 1226000000.0], [1246000000.0, 1247000000.0], [1255000000.0, 1256000000.0], [1398000000.0, 1399000000.0], [1476000000.0, 1477000000.0], [1563000000.0, 1564000000.0], [1595000000.0, 1596000000.0], [1617000000.0, 1618000000.0], [1810000000.0, 1811000000.0], [1826000000.0, 1827000000.0], [1884000000.0, 1885000000.0], [1907000000.0, 1908000000.0], [2093000000.0, 2094000000.0], [2117000000.0, 2118000000.0], [2122000000.0, 2123000000.0], [2384000000.0, 2385000000.0], [2437000000.0, 2438000000.0], [2451000000.0, 2452000000.0], [2527000000.0, 2528000000.0], [2560000000.0, 2561000000.0], [2578000000.0, 2579000000.0], [2600000000.0, 2601000000.0], [2619000000.0, 2620000000.0], [2643000000.0, 2644000000.0], [2768000000.0, 2769000000.0], [2835000000.0, 2836000000.0], [2872000000.0, 2873000000.0], [2905000000.0, 2906000000.0], [3073000000.0, 3074000000.0], [3092000000.0, 3093000000.0], [3119000000.0, 3120000000.0], [3128000000.0, 3129000000.0], [3145000000.0, 3146000000.0], [3170000000.0, 3171000000.0], [3243000000.0, 3244000000.0], [3307000000.0, 3308000000.0], [3453000000.0, 3454000000.0], [3473000000.0, 3474000000.0], [3483000000.0, 3484000000.0], [3577000000.0, 3578000000.0], [3583000000.0, 3584000000.0], [3634000000.0, 3635000000.0], [3644000000.0, 3645000000.0], [3649000000.0, 3650000000.0], [3656000000.0, 3657000000.0], [3687000000.0, 3688000000.0], [3710000000.0, 3711000000.0], [3828000000.0, 3829000000.0], [3992000000.0, 3993000000.0], [4104000000.0, 4105000000.0], [4132000000.0, 4133000000.0], [4166000000.0, 4168000000.0], [4172000000.0, 4173000000.0], [4301000000.0, 4302000000.0], [4336000000.0, 4337000000.0], [4427000000.0, 4428000000.0], [4481000000.0, 4482000000.0], [4501000000.0, 4502000000.0], [4547000000.0, 4548000000.0], [4589000000.0, 4590000000.0], [4595000000.0, 4596000000.0], [4631000000.0, 4632000000.0], [4705000000.0, 4706000000.0], [4749000000.0, 4750000000.0], [4777000000.0, 4778000000.0], [4835000000.0, 4836000000.0], [4856000000.0, 4857000000.0], [4932000000.0, 4933000000.0], [4970000000.0, 4971000000.0], [5022000000.0, 5023000000.0], [5082000000.0, 5083000000.0], [5191000000.0, 5192000000.0], [5217000000.0, 5218000000.0], [5267000000.0, 5268000000.0], [5284000000.0, 5285000000.0], [5385000000.0, 5386000000.0], [5492000000.0, 5493000000.0], [5529000000.0, 5530000000.0], [5579000000.0, 5580000000.0], [5734000000.0, 5735000000.0], [5949000000.0, 5950000000.0], [6027000000.0, 6028000000.0], [6074000000.0, 6075000000.0], [6181000000.0, 6182000000.0], [6222000000.0, 6223000000.0], [6346000000.0, 6347000000.0], [6438000000.0, 6439000000.0], [6506000000.0, 6507000000.0], [6614000000.0, 6615000000.0], [6669000000.0, 6670000000.0], [6683000000.0, 6684000000.0], [6748000000.0, 6749000000.0], [6798000000.0, 6799000000.0], [6816000000.0, 6817000000.0], [6918000000.0, 6919000000.0], [7053000000.0, 7054000000.0], [7075000000.0, 7076000000.0], [7235000000.0, 7236000000.0], [7305000000.0, 7306000000.0], [7336000000.0, 7337000000.0], [7464000000.0, 7465000000.0], [7513000000.0, 7514000000.0], [7534000000.0, 7535000000.0], [7554000000.0, 7555000000.0], [7748000000.0, 7749000000.0], [7771000000.0, 7772000000.0], [7894000000.0, 7895000000.0], [7896000000.0, 7897000000.0], [7931000000.0, 7932000000.0], [7954000000.0, 7955000000.0], [7988000000.0, 7989000000.0], [8040000000.0, 8041000000.0], [8344000000.0, 8345000000.0], [8399000000.0, 8400000000.0], [8422000000.0, 8423000000.0], [8437000000.0, 8438000000.0], [8568000000.0, 8569000000.0], [8631000000.0, 8632000000.0], [8646000000.0, 8647000000.0], [8718000000.0, 8719000000.0], [8759000000.0, 8760000000.0], [8857000000.0, 8858000000.0], [8868000000.0, 8870000000.0], [8934000000.0, 8935000000.0], [8943000000.0, 8944000000.0], [9075000000.0, 9076000000.0], [9116000000.0, 9117000000.0], [9226000000.0, 9227000000.0], [9250000000.0, 9251000000.0], [9271000000.0, 9272000000.0], [9284000000.0, 9285000000.0], [9382000000.0, 9383000000.0], [9395000000.0, 9396000000.0], [9442000000.0, 9443000000.0], [9504000000.0, 9505000000.0], [9522000000.0, 9523000000.0], [9555000000.0, 9556000000.0], [9558000000.0, 9559000000.0], [9571000000.0, 9572000000.0], [9621000000.0, 9622000000.0], [9810000000.0, 9811000000.0], [9839000000.0, 9840000000.0], [9875000000.0, 9876000000.0], [10044000000.0, 10045000000.0], [10048000000.0, 10049000000.0], [10099000000.0, 10100000000.0], [10106000000.0, 10107000000.0], [10172000000.0, 10173000000.0], [10282000000.0, 10283000000.0], [10386000000.0, 10387000000.0], [10392000000.0, 10393000000.0], [10450000000.0, 10451000000.0], [10713000000.0, 10714000000.0], [10889000000.0, 10890000000.0], [10904000000.0, 10905000000.0], [10916000000.0, 10917000000.0], [10942000000.0, 10943000000.0], [10982000000.0, 10983000000.0], [11100000000.0, 11101000000.0], [11123000000.0, 11124000000.0], [11223000000.0, 11224000000.0], [11323000000.0, 11324000000.0], [11329000000.0, 11330000000.0], [11361000000.0, 11362000000.0], [11482000000.0, 11483000000.0], [11517000000.0, 11518000000.0], [11582000000.0, 11583000000.0], [11678000000.0, 11679000000.0], [11718000000.0, 11719000000.0], [11743000000.0, 11744000000.0], [11759000000.0, 11760000000.0], [11987000000.0, 11988000000.0], [12191000000.0, 12192000000.0], [12212000000.0, 12213000000.0], [12234000000.0, 12235000000.0], [12291000000.0, 12292000000.0], [12331000000.0, 12332000000.0], [12376000000.0, 12377000000.0], [12458000000.0, 12459000000.0], [12487000000.0, 12488000000.0], [12559000000.0, 12560000000.0], [12586000000.0, 12587000000.0], [12622000000.0, 12623000000.0], [12625000000.0, 12626000000.0], [12682000000.0, 12683000000.0], [12898000000.0, 12899000000.0], [12905000000.0, 12906000000.0], [12942000000.0, 12943000000.0], [12945000000.0, 12946000000.0], [12968000000.0, 12969000000.0], [13036000000.0, 13037000000.0], [13183000000.0, 13184000000.0], [13254000000.0, 13255000000.0], [13336000000.0, 13337000000.0], [13345000000.0, 13346000000.0], [13549000000.0, 13550000000.0], [13579000000.0, 13580000000.0], [13637000000.0, 13638000000.0], [13834000000.0, 13835000000.0], [14097000000.0, 14098000000.0], [14135000000.0, 14136000000.0], [14141000000.0, 14142000000.0], [14177000000.0, 14178000000.0], [14266000000.0, 14267000000.0], [14276000000.0, 14277000000.0], [14335000000.0, 14336000000.0], [14503000000.0, 14504000000.0], [14551000000.0, 14552000000.0], [14627000000.0, 14628000000.0], [14663000000.0, 14664000000.0], [14751000000.0, 14752000000.0], [14925000000.0, 14926000000.0], [14984000000.0, 14985000000.0], [15009000000.0, 15010000000.0], [15016000000.0, 15017000000.0], [15112000000.0, 15113000000.0], [15116000000.0, 15117000000.0], [15180000000.0, 15181000000.0], [15233000000.0, 15234000000.0], [15235000000.0, 15236000000.0], [15314000000.0, 15315000000.0], [15456000000.0, 15457000000.0], [15465000000.0, 15466000000.0], [15526000000.0, 15527000000.0], [15553000000.0, 15554000000.0], [15720000000.0, 15721000000.0], [15802000000.0, 15803000000.0], [15812000000.0, 15813000000.0], [15835000000.0, 15836000000.0], [15965000000.0, 15966000000.0], [15984000000.0, 15985000000.0], [16021000000.0, 16022000000.0], [16114000000.0, 16115000000.0], [16259000000.0, 16260000000.0], [16271000000.0, 16272000000.0], [16371000000.0, 16372000000.0], [16446000000.0, 16447000000.0], [16455000000.0, 16456000000.0], [16528000000.0, 16529000000.0], [16658000000.0, 16659000000.0], [16663000000.0, 16664000000.0], [16770000000.0, 16771000000.0], [16835000000.0, 16836000000.0], [16858000000.0, 16859000000.0], [16898000000.0, 16899000000.0], [16998000000.0, 16999000000.0], [17199000000.0, 17200000000.0], [17227000000.0, 17228000000.0], [17259000000.0, 17260000000.0], [17283000000.0, 17284000000.0], [17353000000.0, 17354000000.0], [17417000000.0, 17418000000.0], [17423000000.0, 17424000000.0], [17553000000.0, 17554000000.0], [17572000000.0, 17573000000.0], [17662000000.0, 17663000000.0], [17713000000.0, 17714000000.0], [17785000000.0, 17786000000.0], [17952000000.0, 17953000000.0], [18022000000.0, 18023000000.0], [18102000000.0, 18103000000.0], [18154000000.0, 18155000000.0], [18202000000.0, 18203000000.0], [18262000000.0, 18263000000.0], [18531000000.0, 18532000000.0], [18670000000.0, 18671000000.0], [18705000000.0, 18706000000.0], [18714000000.0, 18715000000.0], [18793000000.0, 18794000000.0], [18959000000.0, 18960000000.0], [18971000000.0, 18972000000.0], [18994000000.0, 18995000000.0], [19277000000.0, 19278000000.0], [19328000000.0, 19329000000.0], [19330000000.0, 19331000000.0], [19429000000.0, 19430000000.0], [19580000000.0, 19581000000.0], [19628000000.0, 19629000000.0], [19638000000.0, 19639000000.0], [19743000000.0, 19744000000.0], [19755000000.0, 19756000000.0], [19865000000.0, 19866000000.0], [19895000000.0, 19896000000.0], [19934000000.0, 19935000000.0], [19948000000.0, 19949000000.0], [19983000000.0, 19984000000.0], [20165000000.0, 20166000000.0], [20171000000.0, 20172000000.0], [20306000000.0, 20307000000.0], [20308000000.0, 20309000000.0], [20354000000.0, 20355000000.0], [20429000000.0, 20430000000.0], [20633000000.0, 20634000000.0], [20668000000.0, 20669000000.0], [20670000000.0, 20671000000.0], [20918000000.0, 20919000000.0], [21146000000.0, 21147000000.0], [21329000000.0, 21330000000.0], [21586000000.0, 21587000000.0], [21658000000.0, 21659000000.0], [21810000000.0, 21812000000.0], [21829000000.0, 21830000000.0], [21854000000.0, 21855000000.0], [21894000000.0, 21895000000.0], [21925000000.0, 21926000000.0], [22000000000.0, 22001000000.0], [22007000000.0, 22008000000.0], [22022000000.0, 22023000000.0], [22109000000.0, 22110000000.0], [22185000000.0, 22186000000.0], [22191000000.0, 22192000000.0], [22253000000.0, 22254000000.0], [22328000000.0, 22329000000.0], [22332000000.0, 22333000000.0], [22338000000.0, 22339000000.0], [22359000000.0, 22360000000.0], [22431000000.0, 22432000000.0], [22445000000.0, 22446000000.0], [22615000000.0, 22616000000.0], [22624000000.0, 22625000000.0], [22671000000.0, 22672000000.0], [22863000000.0, 22864000000.0], [22968000000.0, 22969000000.0], [23016000000.0, 23017000000.0], [23188000000.0, 23189000000.0], [23212000000.0, 23213000000.0], [23274000000.0, 23275000000.0], [23369000000.0, 23370000000.0], [23399000000.0, 23400000000.0], [23412000000.0, 23413000000.0], [23425000000.0, 23426000000.0], [23459000000.0, 23460000000.0], [23465000000.0, 23466000000.0], [23479000000.0, 23480000000.0], [23525000000.0, 23526000000.0], [23563000000.0, 23564000000.0], [23753000000.0, 23754000000.0], [23783000000.0, 23784000000.0], [23788000000.0, 23789000000.0], [23804000000.0, 23805000000.0], [23828000000.0, 23829000000.0], [23832000000.0, 23833000000.0], [23834000000.0, 23835000000.0], [23862000000.0, 23863000000.0], [23867000000.0, 23868000000.0], [24061000000.0, 24062000000.0], [24089000000.0, 24090000000.0], [24117000000.0, 24118000000.0], [24176000000.0, 24177000000.0], [24206000000.0, 24207000000.0], [24259000000.0, 24260000000.0], [24264000000.0, 24265000000.0], [24413000000.0, 24414000000.0], [24461000000.0, 24462000000.0], [24506000000.0, 24507000000.0], [24509000000.0, 24510000000.0], [24515000000.0, 24516000000.0], [24521000000.0, 24522000000.0], [24530000000.0, 24531000000.0], [24682000000.0, 24683000000.0], [24700000000.0, 24701000000.0], [24805000000.0, 24806000000.0], [24877000000.0, 24878000000.0], [24914000000.0, 24915000000.0], [25008000000.0, 25009000000.0], [25107000000.0, 25108000000.0], [25243000000.0, 25244000000.0], [25339000000.0, 25340000000.0], [25357000000.0, 25358000000.0], [25391000000.0, 25392000000.0], [25537000000.0, 25538000000.0], [25543000000.0, 25544000000.0], [25871000000.0, 25872000000.0], [25890000000.0, 25891000000.0], [25914000000.0, 25915000000.0], [25963000000.0, 25964000000.0], [25976000000.0, 25977000000.0], [26016000000.0, 26017000000.0], [26019000000.0, 26020000000.0], [26071000000.0, 26072000000.0], [26102000000.0, 26103000000.0], [26108000000.0, 26109000000.0], [26127000000.0, 26128000000.0], [26175000000.0, 26176000000.0], [26209000000.0, 26210000000.0], [26236000000.0, 26237000000.0], [26309000000.0, 26310000000.0], [26397000000.0, 26398000000.0], [26558000000.0, 26559000000.0], [26563000000.0, 26564000000.0], [26565000000.0, 26566000000.0], [26591000000.0, 26592000000.0], [26659000000.0, 26660000000.0], [26673000000.0, 26674000000.0], [26738000000.0, 26739000000.0], [26823000000.0, 26824000000.0], [26861000000.0, 26862000000.0], [26915000000.0, 26916000000.0], [27088000000.0, 27089000000.0], [27138000000.0, 27139000000.0], [27335000000.0, 27336000000.0], [27379000000.0, 27380000000.0], [27454000000.0, 27455000000.0], [27530000000.0, 27531000000.0], [27551000000.0, 27552000000.0], [27607000000.0, 27608000000.0], [27649000000.0, 27650000000.0], [27666000000.0, 27667000000.0], [27729000000.0, 27730000000.0], [27790000000.0, 27791000000.0], [27836000000.0, 27837000000.0], [28064000000.0, 28065000000.0], [28098000000.0, 28099000000.0], [28170000000.0, 28171000000.0], [28205000000.0, 28206000000.0], [28217000000.0, 28218000000.0], [28284000000.0, 28285000000.0], [28300000000.0, 28301000000.0], [28352000000.0, 28353000000.0], [28408000000.0, 28409000000.0], [28449000000.0, 28450000000.0], [28508000000.0, 28509000000.0], [28721000000.0, 28722000000.0], [28736000000.0, 28737000000.0], [28764000000.0, 28765000000.0], [28882000000.0, 28883000000.0], [28940000000.0, 28941000000.0], [28951000000.0, 28952000000.0], [29168000000.0, 29169000000.0], [29287000000.0, 29288000000.0], [29420000000.0, 29421000000.0], [29456000000.0, 29457000000.0], [29556000000.0, 29557000000.0], [29629000000.0, 29630000000.0], [29742000000.0, 29743000000.0], [29820000000.0, 29821000000.0], [29828000000.0, 29829000000.0], [29831000000.0, 29832000000.0], [29844000000.0, 29845000000.0], [29854000000.0, 29855000000.0], [29926000000.0, 29927000000.0], [29980000000.0, 29981000000.0], [30009000000.0, 30010000000.0], [30018000000.0, 30019000000.0], [30071000000.0, 30072000000.0], [30094000000.0, 30095000000.0], [30137000000.0, 30138000000.0], [30156000000.0, 30157000000.0], [30289000000.0, 30290000000.0], [30299000000.0, 30300000000.0], [30357000000.0, 30358000000.0], [30440000000.0, 30441000000.0], [30578000000.0, 30579000000.0], [30623000000.0, 30624000000.0], [30707000000.0, 30708000000.0], [30759000000.0, 30760000000.0], [30784000000.0, 30785000000.0], [30814000000.0, 30815000000.0], [30826000000.0, 30827000000.0], [30886000000.0, 30887000000.0], [30900000000.0, 30901000000.0], [31035000000.0, 31036000000.0], [31050000000.0, 31051000000.0], [31421000000.0, 31422000000.0], [31491000000.0, 31492000000.0], [31530000000.0, 31531000000.0], [31544000000.0, 31545000000.0], [31579000000.0, 31580000000.0], [31615000000.0, 31616000000.0], [31701000000.0, 31702000000.0], [31717000000.0, 31718000000.0], [31775000000.0, 31776000000.0], [31809000000.0, 31810000000.0], [31821000000.0, 31822000000.0], [31844000000.0, 31845000000.0], [31968000000.0, 31969000000.0], [32012000000.0, 32013000000.0], [32033000000.0, 32034000000.0], [32040000000.0, 32041000000.0], [32236000000.0, 32237000000.0], [32269000000.0, 32270000000.0], [32292000000.0, 32293000000.0], [32443000000.0, 32444000000.0], [32483000000.0, 32484000000.0], [32722000000.0, 32724000000.0], [32770000000.0, 32771000000.0], [32853000000.0, 32854000000.0], [32863000000.0, 32864000000.0], [32875000000.0, 32876000000.0], [32897000000.0, 32898000000.0], [32907000000.0, 32908000000.0], [32953000000.0, 32954000000.0], [32960000000.0, 32961000000.0], [32964000000.0, 32965000000.0], [33019000000.0, 33020000000.0], [33028000000.0, 33029000000.0], [33189000000.0, 33190000000.0], [33244000000.0, 33245000000.0], [33288000000.0, 33289000000.0], [33312000000.0, 33313000000.0], [33315000000.0, 33316000000.0], [33568000000.0, 33570000000.0], [33701000000.0, 33702000000.0], [33835000000.0, 33836000000.0], [33942000000.0, 33943000000.0], [33955000000.0, 33956000000.0], [34105000000.0, 34106000000.0], [34117000000.0, 34118000000.0], [34331000000.0, 34332000000.0], [34367000000.0, 34368000000.0], [34377000000.0, 34378000000.0], [34511000000.0, 34512000000.0], [34566000000.0, 34567000000.0], [34574000000.0, 34575000000.0], [34608000000.0, 34609000000.0], [34657000000.0, 34658000000.0], [34690000000.0, 34691000000.0], [34734000000.0, 34735000000.0], [34765000000.0, 34766000000.0], [34793000000.0, 34794000000.0], [34852000000.0, 34853000000.0], [34912000000.0, 34913000000.0], [34957000000.0, 34958000000.0], [34963000000.0, 34964000000.0], [35010000000.0, 35011000000.0], [35057000000.0, 35058000000.0], [35064000000.0, 35065000000.0], [35271000000.0, 35272000000.0], [35290000000.0, 35291000000.0], [35355000000.0, 35356000000.0], [35368000000.0, 35369000000.0], [35414000000.0, 35415000000.0], [35437000000.0, 35438000000.0], [35444000000.0, 35445000000.0], [35452000000.0, 35453000000.0], [35589000000.0, 35590000000.0], [35618000000.0, 35619000000.0], [35821000000.0, 35822000000.0], [35872000000.0, 35873000000.0], [35880000000.0, 35881000000.0], [36167000000.0, 36168000000.0], [36187000000.0, 36188000000.0], [36201000000.0, 36202000000.0], [36255000000.0, 36256000000.0], [36266000000.0, 36267000000.0], [36269000000.0, 36270000000.0], [36276000000.0, 36277000000.0], [36413000000.0, 36414000000.0], [36422000000.0, 36423000000.0], [36510000000.0, 36511000000.0], [36531000000.0, 36532000000.0], [36651000000.0, 36652000000.0], [36677000000.0, 36678000000.0], [36891000000.0, 36892000000.0], [37035000000.0, 37036000000.0], [37386000000.0, 37387000000.0], [37610000000.0, 37611000000.0], [37617000000.0, 37618000000.0], [37644000000.0, 37645000000.0], [37774000000.0, 37775000000.0], [37824000000.0, 37825000000.0], [37859000000.0, 37860000000.0], [37882000000.0, 37883000000.0], [37924000000.0, 37925000000.0], [37971000000.0, 37972000000.0], [37986000000.0, 37987000000.0], [38003000000.0, 38004000000.0], [38057000000.0, 38058000000.0], [38165000000.0, 38166000000.0], [38206000000.0, 38207000000.0], [38268000000.0, 38269000000.0], [38313000000.0, 38314000000.0], [38333000000.0, 38334000000.0], [38558000000.0, 38559000000.0], [38618000000.0, 38619000000.0], [38705000000.0, 38706000000.0], [38891000000.0, 38892000000.0], [38965000000.0, 38966000000.0], [39313000000.0, 39314000000.0], [39376000000.0, 39377000000.0], [39382000000.0, 39383000000.0], [39413000000.0, 39414000000.0], [39436000000.0, 39437000000.0], [39938000000.0, 39939000000.0], [39958000000.0, 39959000000.0], [39983000000.0, 39984000000.0], [39998000000.0, 39999000000.0], [40049000000.0, 40050000000.0], [40075000000.0, 40076000000.0], [40100000000.0, 40101000000.0], [40254000000.0, 40255000000.0], [40357000000.0, 40358000000.0], [40384000000.0, 40385000000.0], [40440000000.0, 40441000000.0], [40454000000.0, 40455000000.0], [40479000000.0, 40480000000.0], [40534000000.0, 40535000000.0], [40541000000.0, 40542000000.0], [40546000000.0, 40547000000.0], [40593000000.0, 40594000000.0], [40600000000.0, 40601000000.0], [40620000000.0, 40621000000.0], [40714000000.0, 40715000000.0], [40755000000.0, 40756000000.0], [40778000000.0, 40779000000.0], [40800000000.0, 40801000000.0], [40909000000.0, 40910000000.0], [40987000000.0, 40988000000.0], [41041000000.0, 41043000000.0], [41098000000.0, 41099000000.0], [41133000000.0, 41134000000.0], [41171000000.0, 41172000000.0], [41564000000.0, 41565000000.0], [41623000000.0, 41624000000.0], [41677000000.0, 41678000000.0], [41733000000.0, 41734000000.0], [41751000000.0, 41752000000.0], [41785000000.0, 41786000000.0], [41813000000.0, 41814000000.0], [41860000000.0, 41861000000.0], [42062000000.0, 42063000000.0], [42082000000.0, 42083000000.0], [42107000000.0, 42108000000.0], [42423000000.0, 42424000000.0], [42579000000.0, 42580000000.0], [42591000000.0, 42592000000.0], [42626000000.0, 42627000000.0], [42766000000.0, 42767000000.0], [42788000000.0, 42789000000.0], [42833000000.0, 42834000000.0], [42912000000.0, 42913000000.0], [42919000000.0, 42920000000.0], [42946000000.0, 42947000000.0], [42988000000.0, 42989000000.0], [43121000000.0, 43122000000.0], [43217000000.0, 43218000000.0], [43377000000.0, 43378000000.0], [43541000000.0, 43542000000.0], [43566000000.0, 43567000000.0], [43670000000.0, 43671000000.0], [43701000000.0, 43702000000.0], [43731000000.0, 43732000000.0], [43737000000.0, 43738000000.0], [43899000000.0, 43900000000.0], [43999000000.0, 44000000000.0], [44069000000.0, 44070000000.0], [44096000000.0, 44097000000.0], [44134000000.0, 44135000000.0], [44212000000.0, 44213000000.0], [44226000000.0, 44228000000.0], [44287000000.0, 44288000000.0], [44475000000.0, 44476000000.0], [44499000000.0, 44500000000.0], [44634000000.0, 44635000000.0], [44655000000.0, 44656000000.0], [44660000000.0, 44661000000.0], [44667000000.0, 44668000000.0], [44743000000.0, 44744000000.0], [44933000000.0, 44934000000.0], [44938000000.0, 44939000000.0], [45028000000.0, 45029000000.0], [45034000000.0, 45035000000.0], [45039000000.0, 45040000000.0], [45063000000.0, 45064000000.0], [45111000000.0, 45112000000.0], [45130000000.0, 45131000000.0], [45134000000.0, 45135000000.0], [45179000000.0, 45180000000.0], [45201000000.0, 45202000000.0], [45261000000.0, 45262000000.0], [45305000000.0, 45306000000.0], [45311000000.0, 45312000000.0], [45384000000.0, 45385000000.0], [45445000000.0, 45446000000.0], [45472000000.0, 45474000000.0], [45545000000.0, 45546000000.0], [45566000000.0, 45567000000.0], [45603000000.0, 45604000000.0], [45620000000.0, 45621000000.0], [45642000000.0, 45643000000.0], [45647000000.0, 45648000000.0], [45706000000.0, 45707000000.0], [45710000000.0, 45711000000.0], [45719000000.0, 45720000000.0], [45752000000.0, 45753000000.0], [45754000000.0, 45755000000.0], [45759000000.0, 45760000000.0], [45771000000.0, 45772000000.0], [45815000000.0, 45816000000.0], [45855000000.0, 45856000000.0], [45892000000.0, 45893000000.0], [45910000000.0, 45911000000.0], [45936000000.0, 45937000000.0], [45951000000.0, 45952000000.0], [45969000000.0, 45970000000.0], [46023000000.0, 46024000000.0], [46046000000.0, 46047000000.0], [46058000000.0, 46059000000.0], [46082000000.0, 46084000000.0], [46113000000.0, 46114000000.0], [46131000000.0, 46132000000.0], [46134000000.0, 46135000000.0], [46427000000.0, 46428000000.0], [46437000000.0, 46438000000.0], [46501000000.0, 46502000000.0], [46617000000.0, 46618000000.0], [46650000000.0, 46651000000.0], [46673000000.0, 46674000000.0], [46679000000.0, 46680000000.0], [46747000000.0, 46748000000.0], [46835000000.0, 46836000000.0], [46883000000.0, 46884000000.0], [46908000000.0, 46909000000.0], [46959000000.0, 46960000000.0], [46983000000.0, 46984000000.0], [47043000000.0, 47044000000.0], [47079000000.0, 47080000000.0], [47095000000.0, 47096000000.0], [47199000000.0, 47200000000.0], [47215000000.0, 47216000000.0], [47258000000.0, 47259000000.0], [47329000000.0, 47330000000.0], [47334000000.0, 47335000000.0], [47347000000.0, 47348000000.0], [47605000000.0, 47606000000.0], [47699000000.0, 47700000000.0], [47791000000.0, 47792000000.0], [47831000000.0, 47832000000.0], [47874000000.0, 47875000000.0], [47916000000.0, 47917000000.0], [48067000000.0, 48068000000.0], [48202000000.0, 48203000000.0], [48207000000.0, 48208000000.0], [48217000000.0, 48218000000.0], [48240000000.0, 48241000000.0], [48287000000.0, 48288000000.0], [48303000000.0, 48304000000.0], [48339000000.0, 48340000000.0], [48376000000.0, 48377000000.0], [48427000000.0, 48428000000.0], [48526000000.0, 48527000000.0], [48531000000.0, 48532000000.0], [48624000000.0, 48625000000.0], [48643000000.0, 48644000000.0], [48698000000.0, 48699000000.0], [48701000000.0, 48702000000.0], [48807000000.0, 48808000000.0], [48832000000.0, 48833000000.0], [48983000000.0, 48984000000.0], [49002000000.0, 49003000000.0], [49206000000.0, 49207000000.0], [49219000000.0, 49220000000.0], [49455000000.0, 49456000000.0], [49476000000.0, 49477000000.0], [49489000000.0, 49490000000.0], [49543000000.0, 49544000000.0], [49568000000.0, 49569000000.0], [49572000000.0, 49573000000.0], [49666000000.0, 49667000000.0], [49698000000.0, 49699000000.0], [49715000000.0, 49716000000.0], [49745000000.0, 49746000000.0], [49774000000.0, 49775000000.0], [49780000000.0, 49781000000.0], [49884000000.0, 49885000000.0], [50144000000.0, 50145000000.0], [50161000000.0, 50162000000.0], [50179000000.0, 50180000000.0], [50281000000.0, 50282000000.0], [50375000000.0, 50376000000.0], [50427000000.0, 50428000000.0], [50494000000.0, 50495000000.0], [50504000000.0, 50505000000.0], [50553000000.0, 50554000000.0], [50561000000.0, 50562000000.0], [50604000000.0, 50605000000.0], [50622000000.0, 50623000000.0], [50753000000.0, 50754000000.0], [50928000000.0, 50929000000.0], [50934000000.0, 50935000000.0], [50950000000.0, 50951000000.0], [51130000000.0, 51131000000.0], [51167000000.0, 51168000000.0], [51280000000.0, 51281000000.0], [51307000000.0, 51308000000.0], [51310000000.0, 51311000000.0], [51428000000.0, 51429000000.0], [51515000000.0, 51516000000.0], [51537000000.0, 51538000000.0], [51554000000.0, 51555000000.0], [51617000000.0, 51618000000.0], [51639000000.0, 51640000000.0], [51644000000.0, 51645000000.0], [51673000000.0, 51674000000.0], [51697000000.0, 51698000000.0], [51794000000.0, 51795000000.0], [51988000000.0, 51989000000.0], [52142000000.0, 52143000000.0], [52202000000.0, 52203000000.0], [52253000000.0, 52254000000.0], [52303000000.0, 52304000000.0], [52418000000.0, 52419000000.0], [52457000000.0, 52458000000.0], [52561000000.0, 52562000000.0], [52593000000.0, 52594000000.0], [52638000000.0, 52639000000.0], [52649000000.0, 52650000000.0], [52779000000.0, 52780000000.0], [52863000000.0, 52864000000.0], [52960000000.0, 52961000000.0], [52985000000.0, 52986000000.0], [53003000000.0, 53004000000.0], [53022000000.0, 53023000000.0], [53219000000.0, 53220000000.0], [53316000000.0, 53317000000.0], [53397000000.0, 53398000000.0], [53429000000.0, 53430000000.0], [53446000000.0, 53447000000.0], [53503000000.0, 53504000000.0], [53548000000.0, 53549000000.0], [53631000000.0, 53632000000.0], [53668000000.0, 53669000000.0], [53874000000.0, 53875000000.0], [53971000000.0, 53972000000.0], [54044000000.0, 54045000000.0], [54071000000.0, 54072000000.0], [54091000000.0, 54092000000.0], [54122000000.0, 54124000000.0], [54155000000.0, 54156000000.0], [54203000000.0, 54204000000.0], [54220000000.0, 54221000000.0], [54236000000.0, 54237000000.0], [54302000000.0, 54303000000.0], [54310000000.0, 54311000000.0], [54321000000.0, 54322000000.0], [54498000000.0, 54500000000.0], [54513000000.0, 54514000000.0], [54605000000.0, 54606000000.0], [54770000000.0, 54771000000.0], [54965000000.0, 54966000000.0], [54968000000.0, 54969000000.0], [54975000000.0, 54976000000.0], [55128000000.0, 55129000000.0], [55252000000.0, 55253000000.0], [55275000000.0, 55276000000.0], [55419000000.0, 55420000000.0], [55509000000.0, 55510000000.0], [55565000000.0, 55566000000.0], [55584000000.0, 55585000000.0], [55652000000.0, 55653000000.0], [55827000000.0, 55828000000.0], [55883000000.0, 55884000000.0], [55949000000.0, 55950000000.0], [55961000000.0, 55962000000.0], [56043000000.0, 56044000000.0], [56111000000.0, 56112000000.0], [56149000000.0, 56150000000.0], [56215000000.0, 56216000000.0], [56453000000.0, 56454000000.0], [56604000000.0, 56605000000.0], [56666000000.0, 56667000000.0], [56681000000.0, 56682000000.0], [56800000000.0, 56801000000.0], [56971000000.0, 56972000000.0], [57039000000.0, 57040000000.0], [57118000000.0, 57119000000.0], [57299000000.0, 57300000000.0], [57358000000.0, 57359000000.0], [57638000000.0, 57639000000.0], [57719000000.0, 57720000000.0], [57758000000.0, 57759000000.0], [57785000000.0, 57786000000.0], [57831000000.0, 57832000000.0], [57851000000.0, 57852000000.0], [57905000000.0, 57906000000.0], [57946000000.0, 57947000000.0], [58008000000.0, 58009000000.0], [58097000000.0, 58098000000.0], [58138000000.0, 58139000000.0], [58166000000.0, 58167000000.0], [58222000000.0, 58223000000.0], [58230000000.0, 58231000000.0], [58363000000.0, 58364000000.0], [58455000000.0, 58456000000.0], [58584000000.0, 58585000000.0], [58591000000.0, 58592000000.0], [58685000000.0, 58686000000.0], [58734000000.0, 58735000000.0], [58790000000.0, 58791000000.0], [58811000000.0, 58812000000.0], [58844000000.0, 58845000000.0], [58899000000.0, 58900000000.0], [58948000000.0, 58949000000.0], [58966000000.0, 58967000000.0], [58990000000.0, 58991000000.0], [59063000000.0, 59064000000.0], [59304000000.0, 59305000000.0], [59319000000.0, 59320000000.0], [59437000000.0, 59438000000.0], [59440000000.0, 59441000000.0], [59524000000.0, 59525000000.0], [59585000000.0, 59586000000.0], [59588000000.0, 59589000000.0], [59615000000.0, 59616000000.0], [59636000000.0, 59637000000.0], [59660000000.0, 59661000000.0], [59677000000.0, 59678000000.0], [59728000000.0, 59729000000.0], [59735000000.0, 59736000000.0], [59829000000.0, 59830000000.0], [59837000000.0, 59838000000.0], [59848000000.0, 59849000000.0], [59940000000.0, 59941000000.0], [59999000000.0, 60000000000.0]]\n"
     ]
    }
   ],
   "source": [
    "lowTimeRanges = []\n",
    "lenL = len(lowOccuranceBins)\n",
    "display(lenL)\n",
    "_ = 0\n",
    "\n",
    "while _ < lenL: # iterate over each hindex _ in lowOccuraceBins\n",
    "    t = lowOccuranceBins[_][0] # save the first value as t\n",
    "    z = 1\n",
    "    while (_ + z < lenL): # make sure in range\n",
    "        if(lowOccuranceBins[_ + z][0] == t + z*1000000): # if the next entry is suxxessive in time\n",
    "            z += 1                                             # go to the next entry\n",
    "        else:                                            \n",
    "            break                                              # break if not successive\n",
    "    lowTimeRanges.append([t, lowOccuranceBins[_ + z - 1][0] + 1000000])  # save start and end time values\n",
    "    _ = _ + z                                                  # move the index to the next entry that is not succesive\n",
    "    \n",
    "\n",
    "    \n",
    "display(\"~~~~~\")\n",
    "display(len(lowTimeRanges))\n",
    "print(lowTimeRanges)"
   ]
  },
  {
   "cell_type": "code",
   "execution_count": 141,
   "metadata": {},
   "outputs": [],
   "source": [
    "def lowTimeBool(time, lowTimeRanges): #Returns true or false if that time is in the range\n",
    "    for rang in lowTimeRanges:\n",
    "        if( np.logical_and(time>=rang[0],time<rang[1])):\n",
    "            #display(time)\n",
    "            return True\n",
    "    #display(time)\n",
    "    return False"
   ]
  },
  {
   "cell_type": "code",
   "execution_count": 142,
   "metadata": {},
   "outputs": [],
   "source": [
    "def lowTimeFile(time, lowTimeRanges, tmax = 60000000000.0,tmin = 0): #Sorts times in/out of rangeand returns 2 arrays\n",
    "    start = datetime.now()\n",
    "    lowTimeArray = []\n",
    "    otherTimeArray = []\n",
    "    for _ in range(len(time)):\n",
    "        val = False\n",
    "        clear_output(wait=True)\n",
    "        display(str(round((time[_]-tmin)*100 / (tmax-tmin), 3)) + \" %\")\n",
    "        for rang in lowTimeRanges:\n",
    "            if( np.logical_and( time[_] >= rang[0], time[_] < rang[1] ) ):\n",
    "                val = True\n",
    "        if(val):\n",
    "            lowTimeArray.append(time[_])\n",
    "        else:\n",
    "            otherTimeArray.append(time[_])\n",
    "    #lowTimeArray = np.array(lowTimeArray)\n",
    "    #otherTimeArray = np.array(otherTimeArray)\n",
    "    end = datetime.now()\n",
    "    print(\"DONE (∩｀-´)⊃━☆ﾟ.*･｡ﾟ \" + str(end-start))\n",
    "    return lowTimeArray, otherTimeArray"
   ]
  },
  {
   "cell_type": "code",
   "execution_count": 143,
   "metadata": {},
   "outputs": [
    {
     "data": {
      "text/plain": [
       "'99.758 %'"
      ]
     },
     "metadata": {},
     "output_type": "display_data"
    },
    {
     "name": "stdout",
     "output_type": "stream",
     "text": [
      "DONE (∩｀-´)⊃━☆ﾟ.*･｡ﾟ 0:00:03.583936\n"
     ]
    }
   ],
   "source": [
    "lowTimes, highTimes = lowTimeFile(time[np.logical_and(np.logical_and(np.logical_and(channel==cn4,edge==0), time<=endTime),time>=startTime)], lowTimeRanges, endTime, startTime)"
   ]
  },
  {
   "cell_type": "code",
   "execution_count": 144,
   "metadata": {},
   "outputs": [
    {
     "name": "stdout",
     "output_type": "stream",
     "text": [
      "21\n",
      "\n",
      "953\n"
     ]
    }
   ],
   "source": [
    "print(len(lowTimes))\n",
    "print()\n",
    "print(len(highTimes))"
   ]
  },
  {
   "cell_type": "code",
   "execution_count": 145,
   "metadata": {},
   "outputs": [],
   "source": [
    "#print(lowTimes)\n",
    "#print()\n",
    "#print(highTimes)"
   ]
  },
  {
   "cell_type": "markdown",
   "metadata": {},
   "source": [
    "## Time Diff Between Consecutive"
   ]
  },
  {
   "cell_type": "code",
   "execution_count": 146,
   "metadata": {},
   "outputs": [
    {
     "data": {
      "image/png": "[encoded data removed]",
      "text/plain": [
       "<Figure size 432x288 with 1 Axes>"
      ]
     },
     "metadata": {
      "needs_background": "light"
     },
     "output_type": "display_data"
    }
   ],
   "source": [
    "#threhshold = 0.5\n",
    "bns = 100\n",
    "one_s_bins, *trash = np.histogram(lowTimes,bins=60)\n",
    "#two_s_bins, *trash = np.histogram(highTimes,bins=60)\n",
    "\n",
    "pp.hist(one_s_bins, bins = bns, label = \"Low Times\", histtype = \"step\", color = 'Red')\n",
    "#pp.axvline(x=threhshold,ymin=0,ymax=600, color = \"gold\")\n",
    "pp.legend()\n",
    "pp.xlabel('x')\n",
    "pp.ylabel(\"Count\")\n",
    "pp.title(\"Dont know (\" + str(bns)+\" bins)\")\n",
    "pp.show()"
   ]
  },
  {
   "cell_type": "code",
   "execution_count": 147,
   "metadata": {},
   "outputs": [],
   "source": [
    "def getDiffs(tymes):\n",
    "    diffs = []\n",
    "    for _ in range(len(tymes) - 1):\n",
    "        diffs.append(tymes[_+1] - tymes[_])\n",
    "    return diffs"
   ]
  },
  {
   "cell_type": "code",
   "execution_count": 148,
   "metadata": {},
   "outputs": [],
   "source": [
    "def getDiffs(tymes):\n",
    "    diffs = []\n",
    "    for _ in range(len(tymes) - 1):\n",
    "        diffs.append(tymes[_+1] - tymes[_])\n",
    "    return diffs"
   ]
  },
  {
   "cell_type": "code",
   "execution_count": 149,
   "metadata": {},
   "outputs": [],
   "source": [
    "lowDiffs = getDiffs(lowTimes)\n",
    "highDiffs = getDiffs(highTimes)\n",
    "allDiffs = lowDiffs + highDiffs"
   ]
  },
  {
   "cell_type": "code",
   "execution_count": 150,
   "metadata": {},
   "outputs": [
    {
     "data": {
      "text/plain": [
       "20"
      ]
     },
     "metadata": {},
     "output_type": "display_data"
    },
    {
     "data": {
      "text/plain": [
       "953"
      ]
     },
     "metadata": {},
     "output_type": "display_data"
    }
   ],
   "source": [
    "display(len(lowDiffs))\n",
    "display()\n",
    "display(len(highTimes))"
   ]
  },
  {
   "cell_type": "code",
   "execution_count": 151,
   "metadata": {},
   "outputs": [
    {
     "data": {
      "image/png": "[encoded data removed]",
      "text/plain": [
       "<Figure size 432x288 with 1 Axes>"
      ]
     },
     "metadata": {
      "needs_background": "light"
     },
     "output_type": "display_data"
    }
   ],
   "source": [
    "bns = 120\n",
    "timeLength = int((endTime - startTime)*1e-9)\n",
    "ax = pp.subplot(1,1,1)\n",
    "ax.hist(np.log10(highDiffs), bins = bns, histtype = 'step', density = True, label = 'High rate')\n",
    "ax.hist(np.log10(lowDiffs), bins = bns, histtype = 'step', density = True, label = 'Low rate')\n",
    "ax.hist(np.log10(allDiffs), bins = bns, histtype = 'step', density = True, label = 'All')\n",
    "ax.grid()\n",
    "ax.set_axisbelow(True)\n",
    "#ax.set_xlim(1,7)\n",
    "#ax.set_ylim(-0.05,0.8)\n",
    "ax.legend(loc = 'upper left')\n",
    "ax.set_ylabel(\"Normalized Counts\")\n",
    "ax.set_xlabel(r\"$\\mathrm{log}_{10} \\left(\\Delta t/\\mathrm{ns}\\right)$\")\n",
    "ax.set_title(\"Normalized Time Difference between Consecutive Hits\\n \" + str(timeLength) + \" sec and binning per \" + str(binRate) + \" ms\")\n",
    "pp.show()"
   ]
  },
  {
   "cell_type": "code",
   "execution_count": null,
   "metadata": {},
   "outputs": [],
   "source": []
  }
 ],
 "metadata": {
  "kernelspec": {
   "display_name": "Python 3.8.1 32-bit",
   "language": "python",
   "name": "python38132bit5ba3d418ef904609a5c42a9afe71f5db"
  },
  "language_info": {
   "codemirror_mode": {
    "name": "ipython",
    "version": 3
   },
   "file_extension": ".py",
   "mimetype": "text/x-python",
   "name": "python",
   "nbconvert_exporter": "python",
   "pygments_lexer": "ipython3",
   "version": "3.8.5"
  }
 },
 "nbformat": 4,
 "nbformat_minor": 4
}
