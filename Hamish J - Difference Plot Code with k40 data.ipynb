{
 "cells": [
  {
   "cell_type": "code",
   "execution_count": 1,
   "metadata": {},
   "outputs": [],
   "source": [
    "import numpy as np\n",
    "import pandas as pd\n",
    "import matplotlib.pyplot as pp\n",
    "from datetime import datetime\n",
    "%matplotlib inline\n",
    "#%matplotlib nbagg\n",
    "#%load_ext heat\n",
    "#%lprun"
   ]
  },
  {
   "cell_type": "code",
   "execution_count": 2,
   "metadata": {},
   "outputs": [],
   "source": [
    "d = pd.read_csv(\"Hamish2.txt\",delimiter='\\t',header=None)\n",
    "#d = pd.read_csv(\"unpacked.txt\",delimiter='\\t',header=None)\n",
    "channel = np.array(d[0])\n",
    "edge = np.array(d[1])\n",
    "time = np.array(d[2])"
   ]
  },
  {
   "cell_type": "code",
   "execution_count": 3,
   "metadata": {},
   "outputs": [
    {
     "data": {
      "text/plain": [
       "365557"
      ]
     },
     "execution_count": 3,
     "metadata": {},
     "output_type": "execute_result"
    }
   ],
   "source": [
    "channel1_rising = time[np.where(np.logical_and(channel==1,edge==0))]\n",
    "len(channel1_rising)"
   ]
  },
  {
   "cell_type": "code",
   "execution_count": 4,
   "metadata": {},
   "outputs": [],
   "source": [
    "def clearTimeDiff():\n",
    "    try:\n",
    "        del threshold\n",
    "    except:\n",
    "        pass\n",
    "    try:\n",
    "        del one_s_bins\n",
    "    except:\n",
    "        pass\n",
    "    try:\n",
    "        del lowTime\n",
    "    except:\n",
    "        pass\n",
    "    try:\n",
    "        del highTime\n",
    "    except:\n",
    "        pass\n",
    "    try:\n",
    "        del lowTimeRanges\n",
    "    except:\n",
    "        pass\n",
    "    try:\n",
    "        del highTimeRanges\n",
    "    except:\n",
    "        pass\n",
    "    try:\n",
    "        del i\n",
    "    except:\n",
    "        pass\n",
    "    try:\n",
    "        del xtic\n",
    "    except:\n",
    "        pass\n",
    "    try:\n",
    "        del tempTime\n",
    "    except:\n",
    "        pass\n",
    "    try:\n",
    "        del endTime\n",
    "    except:\n",
    "        pass\n",
    "    try:\n",
    "        del bns\n",
    "    except:\n",
    "        pass\n",
    "    try:\n",
    "        del highDiffs\n",
    "    except:\n",
    "        pass\n",
    "    try:\n",
    "        del lowDiffs\n",
    "    except:\n",
    "        pass\n",
    "    try:\n",
    "        del allDiffs\n",
    "    except:\n",
    "        pass\n",
    "    print(\"Cleared variables from memory\\n\")"
   ]
  },
  {
   "cell_type": "markdown",
   "metadata": {},
   "source": [
    "# Low Threshold"
   ]
  },
  {
   "cell_type": "code",
   "execution_count": 23,
   "metadata": {},
   "outputs": [
    {
     "data": {
      "image/png": "[encoded data removed]",
      "text/plain": [
       "<Figure size 432x288 with 1 Axes>"
      ]
     },
     "metadata": {
      "needs_background": "light"
     },
     "output_type": "display_data"
    }
   ],
   "source": [
    "pp.close()\n",
    "threshold = 5.85e3\n",
    "one_s_bins, *trash = np.histogram(time[np.where(np.logical_and(channel==1,edge==0))],bins=120)\n",
    "\n",
    "pp.hist(one_s_bins,bins=600,label = \"one_s_bins\",histtype = 'step')\n",
    "pp.legend()\n",
    "pp.xlabel(\"x axis\")\n",
    "pp.xticks([threshold])\n",
    "pp.axvline(x=threshold, ymin=0, ymax=6, color = \"gold\")\n",
    "pp.title(\"Data Histogram\")\n",
    "pp.show()"
   ]
  },
  {
   "cell_type": "code",
   "execution_count": 6,
   "metadata": {},
   "outputs": [
    {
     "name": "stdout",
     "output_type": "stream",
     "text": [
      "0\n",
      "\n",
      "2\n",
      "\n",
      "3\n",
      "\n",
      "7\n",
      "\n",
      "10\n",
      "\n",
      "12\n",
      "\n",
      "16\n",
      "\n",
      "17\n",
      "\n",
      "27\n",
      "\n",
      "30\n",
      "\n",
      "37\n",
      "\n",
      "38\n",
      "\n",
      "41\n",
      "\n",
      "55\n",
      "\n",
      "59\n",
      "\n"
     ]
    }
   ],
   "source": [
    "pp.close()\n",
    "xtic=[0]\n",
    "lowTimeRanges = []\n",
    "highTimeRanges = []\n",
    "i = 0\n",
    "lowTime = []\n",
    "highTime = []\n",
    "while i < len(one_s_bins):\n",
    "    print(i)\n",
    "    print()\n",
    "    if one_s_bins[i] < threshold:\n",
    "        startSecond = i\n",
    "        while one_s_bins[i] < threshold:\n",
    "            if i+1 == len(one_s_bins):\n",
    "                i += 1\n",
    "                break\n",
    "            else:\n",
    "                lowTime.append(i)\n",
    "                i += 1\n",
    "        endSecond = i\n",
    "        lowTimeRanges.append(np.array([startSecond,endSecond]))\n",
    "        xtic.append(endSecond)\n",
    "    else:\n",
    "        startSecond = i\n",
    "        while one_s_bins[i] >= threshold:\n",
    "            if i+1 == len(one_s_bins):\n",
    "                i += 1\n",
    "                break\n",
    "            else:\n",
    "                highTime.append(i)\n",
    "                i += 1\n",
    "        endSecond = i\n",
    "        highTimeRanges.append(np.array([startSecond,endSecond]))\n",
    "        xtic.append(endSecond)\n",
    "\n",
    "#lowTime = np.array(lowTime)\n",
    "#highTime = np.array(highTime)\n",
    "lowTimeRanges = np.array(lowTimeRanges)\n",
    "highTimeRanges = np.array(highTimeRanges)"
   ]
  },
  {
   "cell_type": "code",
   "execution_count": 7,
   "metadata": {
    "scrolled": true
   },
   "outputs": [
    {
     "name": "stdout",
     "output_type": "stream",
     "text": [
      "[[ 0  2]\n",
      " [ 3  7]\n",
      " [10 12]\n",
      " [16 17]\n",
      " [27 30]\n",
      " [37 38]\n",
      " [41 55]\n",
      " [59 60]]\n",
      "\n",
      "[[ 2  3]\n",
      " [ 7 10]\n",
      " [12 16]\n",
      " [17 27]\n",
      " [30 37]\n",
      " [38 41]\n",
      " [55 59]]\n"
     ]
    }
   ],
   "source": [
    "print(highTimeRanges)\n",
    "print()\n",
    "print(lowTimeRanges)"
   ]
  },
  {
   "cell_type": "code",
   "execution_count": 8,
   "metadata": {
    "scrolled": true
   },
   "outputs": [
    {
     "name": "stdout",
     "output_type": "stream",
     "text": [
      "[0, 1, 3, 4, 5, 6, 10, 11, 16, 27, 28, 29, 37, 41, 42, 43, 44, 45, 46, 47, 48, 49, 50, 51, 52, 53, 54]\n",
      "\n",
      "[2, 7, 8, 9, 12, 13, 14, 15, 17, 18, 19, 20, 21, 22, 23, 24, 25, 26, 30, 31, 32, 33, 34, 35, 36, 38, 39, 40, 55, 56, 57, 58]\n"
     ]
    }
   ],
   "source": [
    "print(highTime)\n",
    "print()\n",
    "print(lowTime)"
   ]
  },
  {
   "cell_type": "code",
   "execution_count": 9,
   "metadata": {},
   "outputs": [
    {
     "data": {
      "image/png": "[encoded data removed]",
      "text/plain": [
       "<Figure size 432x288 with 1 Axes>"
      ]
     },
     "metadata": {
      "needs_background": "light"
     },
     "output_type": "display_data"
    }
   ],
   "source": [
    "tempTime = highTime + lowTime\n",
    "endTime = 1 + max(tempTime)\n",
    "\n",
    "bns = []\n",
    "i = 0\n",
    "while i <= endTime:\n",
    "    bns.append(i)\n",
    "    i += 1\n",
    "    \n",
    "pp.hist(highTime,bins=bns,label=\"high time\", histtype = 'bar', color = \"gold\")\n",
    "pp.hist(lowTime,bins=bns,label=\"low time\", histtype = 'bar', color = \"darkorange\")\n",
    "pp.legend()\n",
    "pp.xlabel(\"time [s]\")\n",
    "pp.yticks([])\n",
    "pp.xticks(xtic)\n",
    "pp.title(\"Threshold Timeline\")\n",
    "pp.show()"
   ]
  },
  {
   "cell_type": "code",
   "execution_count": 10,
   "metadata": {},
   "outputs": [],
   "source": [
    "pp.close()\n",
    "\n",
    "def getDiffs(timePairs):\n",
    "    diffList = []\n",
    "    #print(timePairs)\n",
    "    for pair in timePairs:\n",
    "        timeValues = channel1_rising[np.logical_and(channel1_rising > (pair[0]*1e9), channel1_rising < (pair[1]*1e9))]\n",
    "        theseDiffs = list(timeValues[1:]-timeValues[:-1])\n",
    "        #print(timeValues[1:])\n",
    "        #print()\n",
    "        #print(timeValues[:-1])\n",
    "        #print()\n",
    "        diffList = diffList + theseDiffs\n",
    "    return np.array(diffList)\n",
    "#del lowDiffs\n",
    "#del highDiffs\n",
    "lowDiffs = getDiffs(lowTimeRanges)\n",
    "highDiffs = getDiffs(highTimeRanges) #highTimeRanges\n",
    "allDiffs = np.array(list(lowDiffs) + list(highDiffs))"
   ]
  },
  {
   "cell_type": "code",
   "execution_count": 11,
   "metadata": {},
   "outputs": [
    {
     "data": {
      "text/plain": [
       "178625"
      ]
     },
     "execution_count": 11,
     "metadata": {},
     "output_type": "execute_result"
    }
   ],
   "source": [
    "len(lowDiffs)"
   ]
  },
  {
   "cell_type": "code",
   "execution_count": 12,
   "metadata": {
    "scrolled": true
   },
   "outputs": [
    {
     "data": {
      "text/plain": [
       "184217"
      ]
     },
     "execution_count": 12,
     "metadata": {},
     "output_type": "execute_result"
    }
   ],
   "source": [
    "len(highDiffs)"
   ]
  },
  {
   "cell_type": "code",
   "execution_count": 13,
   "metadata": {},
   "outputs": [
    {
     "data": {
      "text/plain": [
       "362842"
      ]
     },
     "execution_count": 13,
     "metadata": {},
     "output_type": "execute_result"
    }
   ],
   "source": [
    "len(allDiffs)"
   ]
  },
  {
   "cell_type": "code",
   "execution_count": 15,
   "metadata": {},
   "outputs": [
    {
     "name": "stderr",
     "output_type": "stream",
     "text": [
      "<ipython-input-15-8901641b3aa2>:3: RuntimeWarning: invalid value encountered in log10\n",
      "  ax.hist(np.log10(allDiffs), bins = bns, histtype = 'step', density = True, label = 'All times')\n",
      "c:\\users\\hamis\\appdata\\local\\programs\\python\\python38-32\\lib\\site-packages\\numpy\\lib\\histograms.py:839: RuntimeWarning: invalid value encountered in greater_equal\n",
      "  keep = (tmp_a >= first_edge)\n",
      "c:\\users\\hamis\\appdata\\local\\programs\\python\\python38-32\\lib\\site-packages\\numpy\\lib\\histograms.py:840: RuntimeWarning: invalid value encountered in less_equal\n",
      "  keep &= (tmp_a <= last_edge)\n",
      "<ipython-input-15-8901641b3aa2>:4: RuntimeWarning: invalid value encountered in log10\n",
      "  ax.hist(np.log10(highDiffs), bins = bns, histtype = 'step', density = True, label = 'High rate')\n",
      "c:\\users\\hamis\\appdata\\local\\programs\\python\\python38-32\\lib\\site-packages\\numpy\\lib\\histograms.py:839: RuntimeWarning: invalid value encountered in greater_equal\n",
      "  keep = (tmp_a >= first_edge)\n",
      "c:\\users\\hamis\\appdata\\local\\programs\\python\\python38-32\\lib\\site-packages\\numpy\\lib\\histograms.py:840: RuntimeWarning: invalid value encountered in less_equal\n",
      "  keep &= (tmp_a <= last_edge)\n"
     ]
    },
    {
     "data": {
      "image/png": "[encoded data removed]",
      "text/plain": [
       "<Figure size 432x288 with 1 Axes>"
      ]
     },
     "metadata": {
      "needs_background": "light"
     },
     "output_type": "display_data"
    }
   ],
   "source": [
    "bns = 50\n",
    "ax = pp.subplot(1,1,1)\n",
    "ax.hist(np.log10(allDiffs), bins = bns, histtype = 'step', density = True, label = 'All times')\n",
    "ax.hist(np.log10(highDiffs), bins = bns, histtype = 'step', density = True, label = 'High rate')\n",
    "ax.hist(np.log10(lowDiffs), bins = bns, histtype = 'step', density = True, label = 'Low rate')\n",
    "ax.grid()\n",
    "ax.set_axisbelow(True)\n",
    "#ax.set_xlim(1,6.1)\n",
    "ax.set_ylim(-0.05,0.8)\n",
    "ax.legend(loc = 'upper left')\n",
    "ax.set_ylabel(\"Normalized Counts\")\n",
    "ax.set_xlabel(r\"$\\mathrm{log}_{10} \\left(\\Delta t/\\mathrm{ns}\\right)$\")\n",
    "ax.set_title(\"Normalized Time Difference between Consecutive Hits\\n Low Threshold\")\n",
    "pp.show()"
   ]
  },
  {
   "cell_type": "code",
   "execution_count": 83,
   "metadata": {},
   "outputs": [
    {
     "name": "stdout",
     "output_type": "stream",
     "text": [
      "Cleared variables from memory\n",
      "\n"
     ]
    }
   ],
   "source": [
    "clearTimeDiff()"
   ]
  },
  {
   "cell_type": "markdown",
   "metadata": {},
   "source": [
    "# Second Threshold"
   ]
  },
  {
   "cell_type": "code",
   "execution_count": 23,
   "metadata": {},
   "outputs": [
    {
     "data": {
      "image/png": "[encoded data removed]",
      "text/plain": [
       "<Figure size 432x288 with 1 Axes>"
      ]
     },
     "metadata": {
      "needs_background": "light"
     },
     "output_type": "display_data"
    }
   ],
   "source": [
    "pp.close()\n",
    "threshold = 1.65e3\n",
    "one_s_bins, *trash = np.histogram(time[np.where(np.logical_and(channel==2,edge==0))],bins=60)\n",
    "\n",
    "pp.hist(one_s_bins,bins=200,label = \"one_s_bins\",histtype = 'step')\n",
    "pp.legend()\n",
    "pp.xlabel(\"x axis\")\n",
    "pp.xticks([threshold])\n",
    "pp.axvline(x=threshold, ymin=0, ymax=6, color = \"gold\")\n",
    "pp.title(\"Data Histogram\")\n",
    "pp.show()"
   ]
  },
  {
   "cell_type": "code",
   "execution_count": 24,
   "metadata": {},
   "outputs": [],
   "source": [
    "pp.close()"
   ]
  },
  {
   "cell_type": "code",
   "execution_count": 25,
   "metadata": {},
   "outputs": [
    {
     "name": "stdout",
     "output_type": "stream",
     "text": [
      "0\n",
      "\n",
      "2\n",
      "\n",
      "3\n",
      "\n",
      "7\n",
      "\n",
      "10\n",
      "\n",
      "12\n",
      "\n",
      "16\n",
      "\n",
      "17\n",
      "\n",
      "27\n",
      "\n",
      "30\n",
      "\n",
      "37\n",
      "\n",
      "38\n",
      "\n",
      "42\n",
      "\n",
      "53\n",
      "\n"
     ]
    }
   ],
   "source": [
    "xtic=[0]\n",
    "lowTimeRanges = []\n",
    "highTimeRanges = []\n",
    "i = 0\n",
    "lowTime = []\n",
    "highTime = []\n",
    "while i < len(one_s_bins):\n",
    "    print(i)\n",
    "    print()\n",
    "    if one_s_bins[i] < threshold:\n",
    "        startSecond = i\n",
    "        while one_s_bins[i] < threshold:\n",
    "            if i+1 == len(one_s_bins):\n",
    "                i += 1\n",
    "                break\n",
    "            else:\n",
    "                lowTime.append(i)\n",
    "                i += 1\n",
    "        endSecond = i\n",
    "        lowTimeRanges.append(np.array([startSecond,endSecond]))\n",
    "        xtic.append(endSecond)\n",
    "    else:\n",
    "        startSecond = i\n",
    "        while one_s_bins[i] >= threshold:\n",
    "            if i+1 == len(one_s_bins):\n",
    "                i += 1\n",
    "                break\n",
    "            else:\n",
    "                highTime.append(i)\n",
    "                i += 1\n",
    "        endSecond = i\n",
    "        highTimeRanges.append(np.array([startSecond,endSecond]))\n",
    "        xtic.append(endSecond)\n",
    "        \n",
    "#lowTime = np.array(lowTime)\n",
    "#highTime = np.array(highTime)\n",
    "lowTimeRanges = np.array(lowTimeRanges)\n",
    "highTimeRanges = np.array(highTimeRanges)"
   ]
  },
  {
   "cell_type": "code",
   "execution_count": 26,
   "metadata": {},
   "outputs": [
    {
     "name": "stdout",
     "output_type": "stream",
     "text": [
      "[0, 1, 3, 4, 5, 6, 10, 11, 16, 27, 28, 29, 37, 42, 43, 44, 45, 46, 47, 48, 49, 50, 51, 52]\n",
      "\n",
      "[2, 7, 8, 9, 12, 13, 14, 15, 17, 18, 19, 20, 21, 22, 23, 24, 25, 26, 30, 31, 32, 33, 34, 35, 36, 38, 39, 40, 41, 53, 54, 55, 56, 57, 58]\n"
     ]
    }
   ],
   "source": [
    "print(highTime)\n",
    "print()\n",
    "print(lowTime)"
   ]
  },
  {
   "cell_type": "code",
   "execution_count": 27,
   "metadata": {},
   "outputs": [
    {
     "name": "stdout",
     "output_type": "stream",
     "text": [
      "[[ 0  2]\n",
      " [ 3  7]\n",
      " [10 12]\n",
      " [16 17]\n",
      " [27 30]\n",
      " [37 38]\n",
      " [42 53]]\n",
      "\n",
      "[[ 2  3]\n",
      " [ 7 10]\n",
      " [12 16]\n",
      " [17 27]\n",
      " [30 37]\n",
      " [38 42]\n",
      " [53 60]]\n"
     ]
    }
   ],
   "source": [
    "print(highTimeRanges)\n",
    "print()\n",
    "print(lowTimeRanges)"
   ]
  },
  {
   "cell_type": "code",
   "execution_count": 28,
   "metadata": {},
   "outputs": [
    {
     "data": {
      "image/png": "[encoded data removed]",
      "text/plain": [
       "<Figure size 432x288 with 1 Axes>"
      ]
     },
     "metadata": {
      "needs_background": "light"
     },
     "output_type": "display_data"
    }
   ],
   "source": [
    "tempTime = highTime + lowTime\n",
    "endTime = 1 + max(tempTime)\n",
    "\n",
    "bns = []\n",
    "i = 0\n",
    "while i <= endTime:\n",
    "    bns.append(i)\n",
    "    i += 1\n",
    "    \n",
    "pp.hist(highTime,bins=bns,label=\"high time\", histtype = 'bar', color = \"gold\")\n",
    "pp.hist(lowTime,bins=bns,label=\"low time\", histtype = 'bar', color = \"darkorange\")\n",
    "pp.legend()\n",
    "pp.xlabel(\"time [s]\")\n",
    "pp.yticks([])\n",
    "pp.xticks(xtic)\n",
    "pp.title(\"Threshold Timeline\")\n",
    "pp.show()"
   ]
  },
  {
   "cell_type": "code",
   "execution_count": 29,
   "metadata": {},
   "outputs": [],
   "source": [
    "pp.close()\n",
    "\n",
    "def getDiffs(timePairs):\n",
    "    diffList = []\n",
    "    for pair in timePairs:\n",
    "        timeValues = channel1_rising[np.logical_and(channel1_rising > (pair[0]*1e9), channel1_rising < (pair[1]*1e9))]\n",
    "        theseDiffs = list(timeValues[1:]-timeValues[:-1])\n",
    "        diffList = diffList + theseDiffs\n",
    "    return np.array(diffList)\n",
    "\n",
    "lowDiffs = getDiffs(lowTimeRanges) #lowTimeRanges\n",
    "highDiffs = getDiffs(highTimeRanges)\n",
    "allDiffs = np.array(list(lowDiffs) + list(highDiffs))"
   ]
  },
  {
   "cell_type": "code",
   "execution_count": 30,
   "metadata": {},
   "outputs": [
    {
     "name": "stdout",
     "output_type": "stream",
     "text": [
      "202115\n",
      "\n",
      "160728\n"
     ]
    }
   ],
   "source": [
    "print(len(lowDiffs))\n",
    "print()\n",
    "print(len(highDiffs))"
   ]
  },
  {
   "cell_type": "code",
   "execution_count": 31,
   "metadata": {},
   "outputs": [
    {
     "name": "stderr",
     "output_type": "stream",
     "text": [
      "<ipython-input-31-15a1aa877787>:3: RuntimeWarning: invalid value encountered in log10\n",
      "  ax.hist(np.log10(allDiffs), bins = bns, histtype = 'step', density = True, label = 'All times')\n",
      "c:\\users\\hamis\\appdata\\local\\programs\\python\\python38-32\\lib\\site-packages\\numpy\\lib\\histograms.py:839: RuntimeWarning: invalid value encountered in greater_equal\n",
      "  keep = (tmp_a >= first_edge)\n",
      "c:\\users\\hamis\\appdata\\local\\programs\\python\\python38-32\\lib\\site-packages\\numpy\\lib\\histograms.py:840: RuntimeWarning: invalid value encountered in less_equal\n",
      "  keep &= (tmp_a <= last_edge)\n",
      "<ipython-input-31-15a1aa877787>:4: RuntimeWarning: invalid value encountered in log10\n",
      "  ax.hist(np.log10(highDiffs), bins = bns, histtype = 'step', density = True, label = 'High rate')\n",
      "c:\\users\\hamis\\appdata\\local\\programs\\python\\python38-32\\lib\\site-packages\\numpy\\lib\\histograms.py:839: RuntimeWarning: invalid value encountered in greater_equal\n",
      "  keep = (tmp_a >= first_edge)\n",
      "c:\\users\\hamis\\appdata\\local\\programs\\python\\python38-32\\lib\\site-packages\\numpy\\lib\\histograms.py:840: RuntimeWarning: invalid value encountered in less_equal\n",
      "  keep &= (tmp_a <= last_edge)\n"
     ]
    },
    {
     "data": {
      "image/png": "[encoded data removed]",
      "text/plain": [
       "<Figure size 432x288 with 1 Axes>"
      ]
     },
     "metadata": {
      "needs_background": "light"
     },
     "output_type": "display_data"
    }
   ],
   "source": [
    "bns = 400\n",
    "ax = pp.subplot(1,1,1)\n",
    "ax.hist(np.log10(allDiffs), bins = bns, histtype = 'step', density = True, label = 'All times')\n",
    "ax.hist(np.log10(highDiffs), bins = bns, histtype = 'step', density = True, label = 'High rate')\n",
    "ax.hist(np.log10(lowDiffs), bins = bns, histtype = 'step', density = True, label = 'Low rate')\n",
    "ax.grid()\n",
    "ax.set_axisbelow(True)\n",
    "ax.set_xlim(1,6.1)\n",
    "ax.set_ylim(-0.05,0.8)\n",
    "ax.legend(loc = 'upper left')\n",
    "ax.set_ylabel(\"Normalized Counts\")\n",
    "ax.set_xlabel(r\"$\\mathrm{log}_{10} \\left(\\Delta t/\\mathrm{ns}\\right)$\")\n",
    "ax.set_title(\"Normalized Time Difference between Consecutive Hits\\n Second Threshold\")\n",
    "pp.show()"
   ]
  },
  {
   "cell_type": "code",
   "execution_count": 32,
   "metadata": {},
   "outputs": [
    {
     "name": "stdout",
     "output_type": "stream",
     "text": [
      "Cleared variables from memory\n",
      "\n"
     ]
    }
   ],
   "source": [
    "clearTimeDiff()"
   ]
  },
  {
   "cell_type": "markdown",
   "metadata": {},
   "source": [
    "# Third Threshold"
   ]
  },
  {
   "cell_type": "code",
   "execution_count": 53,
   "metadata": {},
   "outputs": [
    {
     "data": {
      "image/png": "[encoded data removed]",
      "text/plain": [
       "<Figure size 432x288 with 1 Axes>"
      ]
     },
     "metadata": {
      "needs_background": "light"
     },
     "output_type": "display_data"
    }
   ],
   "source": [
    "pp.close()\n",
    "threshold = 65\n",
    "one_s_bins, *trash = np.histogram(time[np.where(np.logical_and(channel==3,edge==0))],bins=60)\n",
    "\n",
    "pp.hist(one_s_bins,bins=100,label = \"one_s_bins\",histtype = 'step')\n",
    "pp.legend()\n",
    "pp.xlabel(\"x axis\")\n",
    "pp.xticks([threshold])\n",
    "pp.axvline(x=threshold, ymin=0, ymax=6, color = \"gold\")\n",
    "pp.title(\"Data Histogram\")\n",
    "pp.show()"
   ]
  },
  {
   "cell_type": "code",
   "execution_count": 54,
   "metadata": {},
   "outputs": [
    {
     "name": "stdout",
     "output_type": "stream",
     "text": [
      "0\n",
      "\n",
      "3\n",
      "\n",
      "5\n",
      "\n",
      "6\n",
      "\n",
      "7\n",
      "\n",
      "16\n",
      "\n",
      "17\n",
      "\n",
      "23\n",
      "\n",
      "24\n",
      "\n",
      "25\n",
      "\n",
      "26\n",
      "\n",
      "29\n",
      "\n",
      "31\n",
      "\n",
      "37\n",
      "\n",
      "38\n",
      "\n",
      "44\n",
      "\n",
      "47\n",
      "\n",
      "49\n",
      "\n",
      "50\n",
      "\n",
      "52\n",
      "\n",
      "54\n",
      "\n"
     ]
    }
   ],
   "source": [
    "pp.close()\n",
    "xtic=[0]\n",
    "lowTimeRanges = []\n",
    "highTimeRanges = []\n",
    "i = 0\n",
    "lowTime = []\n",
    "highTime = []\n",
    "while i < len(one_s_bins):\n",
    "    print(i)\n",
    "    print()\n",
    "    if one_s_bins[i] < threshold:\n",
    "        startSecond = i\n",
    "        while one_s_bins[i] < threshold:\n",
    "            if i+1 == len(one_s_bins):\n",
    "                i += 1\n",
    "                break\n",
    "            else:\n",
    "                lowTime.append(i)\n",
    "                i += 1\n",
    "        endSecond = i\n",
    "        lowTimeRanges.append(np.array([startSecond,endSecond]))\n",
    "        xtic.append(endSecond)\n",
    "    else:\n",
    "        startSecond = i\n",
    "        while one_s_bins[i] >= threshold:\n",
    "            if i+1 == len(one_s_bins):\n",
    "                i += 1\n",
    "                break\n",
    "            else:\n",
    "                highTime.append(i)\n",
    "                i += 1\n",
    "        endSecond = i\n",
    "        highTimeRanges.append(np.array([startSecond,endSecond]))\n",
    "        xtic.append(endSecond)\n",
    "        \n",
    "#lowTime = np.array(lowTime)\n",
    "#highTime = np.array(highTime)\n",
    "lowTimeRanges = np.array(lowTimeRanges)\n",
    "highTimeRanges = np.array(highTimeRanges)"
   ]
  },
  {
   "cell_type": "code",
   "execution_count": 55,
   "metadata": {},
   "outputs": [
    {
     "name": "stdout",
     "output_type": "stream",
     "text": [
      "[3, 4, 6, 16, 23, 25, 29, 30, 37, 44, 45, 46, 49, 52, 53]\n",
      "\n",
      "[0, 1, 2, 5, 7, 8, 9, 10, 11, 12, 13, 14, 15, 17, 18, 19, 20, 21, 22, 24, 26, 27, 28, 31, 32, 33, 34, 35, 36, 38, 39, 40, 41, 42, 43, 47, 48, 50, 51, 54, 55, 56, 57, 58]\n"
     ]
    }
   ],
   "source": [
    "print(highTime)\n",
    "print()\n",
    "print(lowTime)"
   ]
  },
  {
   "cell_type": "code",
   "execution_count": 56,
   "metadata": {},
   "outputs": [
    {
     "name": "stdout",
     "output_type": "stream",
     "text": [
      "[[ 3  5]\n",
      " [ 6  7]\n",
      " [16 17]\n",
      " [23 24]\n",
      " [25 26]\n",
      " [29 31]\n",
      " [37 38]\n",
      " [44 47]\n",
      " [49 50]\n",
      " [52 54]]\n",
      "\n",
      "[[ 0  3]\n",
      " [ 5  6]\n",
      " [ 7 16]\n",
      " [17 23]\n",
      " [24 25]\n",
      " [26 29]\n",
      " [31 37]\n",
      " [38 44]\n",
      " [47 49]\n",
      " [50 52]\n",
      " [54 60]]\n"
     ]
    }
   ],
   "source": [
    "print(highTimeRanges) #clearTimeDiff()\n",
    "print()\n",
    "print(lowTimeRanges)"
   ]
  },
  {
   "cell_type": "code",
   "execution_count": 57,
   "metadata": {},
   "outputs": [
    {
     "data": {
      "image/png": "[encoded data removed]",
      "text/plain": [
       "<Figure size 432x288 with 1 Axes>"
      ]
     },
     "metadata": {
      "needs_background": "light"
     },
     "output_type": "display_data"
    }
   ],
   "source": [
    "tempTime = highTime + lowTime\n",
    "endTime = 1 + max(tempTime)\n",
    "\n",
    "bns = []\n",
    "i = 0\n",
    "while i <= endTime:\n",
    "    bns.append(i)\n",
    "    i += 1\n",
    "    \n",
    "pp.hist(highTime,bins=bns,label=\"high time\", histtype = 'bar', color = \"gold\")\n",
    "pp.hist(lowTime,bins=bns,label=\"low time\", histtype = 'bar', color = \"darkorange\")\n",
    "pp.legend()\n",
    "pp.xlabel(\"time [s]\")\n",
    "pp.yticks([])\n",
    "pp.xticks(xtic)\n",
    "pp.title(\"Threshold Timeline\")\n",
    "pp.show()"
   ]
  },
  {
   "cell_type": "code",
   "execution_count": 58,
   "metadata": {},
   "outputs": [],
   "source": [
    "pp.close()\n",
    "\n",
    "def getDiffs(timePairs):\n",
    "    diffList = []\n",
    "    for pair in timePairs:\n",
    "        timeValues = channel1_rising[np.logical_and(channel1_rising > (pair[0]*1e9), channel1_rising < (pair[1]*1e9))]\n",
    "        theseDiffs = list(timeValues[1:]-timeValues[:-1])\n",
    "        diffList = diffList + theseDiffs\n",
    "    return np.array(diffList)\n",
    "\n",
    "lowDiffs = getDiffs(lowTimeRanges)\n",
    "highDiffs = getDiffs(highTimeRanges)\n",
    "allDiffs = np.array(list(lowDiffs) + list(highDiffs))"
   ]
  },
  {
   "cell_type": "code",
   "execution_count": 59,
   "metadata": {},
   "outputs": [
    {
     "name": "stdout",
     "output_type": "stream",
     "text": [
      "261885\n",
      "\n",
      "100951\n"
     ]
    }
   ],
   "source": [
    "print(len(lowDiffs))\n",
    "print()\n",
    "print(len(highDiffs))"
   ]
  },
  {
   "cell_type": "code",
   "execution_count": 60,
   "metadata": {},
   "outputs": [
    {
     "name": "stderr",
     "output_type": "stream",
     "text": [
      "<ipython-input-60-820038c6f139>:3: RuntimeWarning: invalid value encountered in log10\n",
      "  ax.hist(np.log10(allDiffs), bins = bns, histtype = 'step', density = True, label = 'All times')\n",
      "c:\\users\\hamis\\appdata\\local\\programs\\python\\python38-32\\lib\\site-packages\\numpy\\lib\\histograms.py:839: RuntimeWarning: invalid value encountered in greater_equal\n",
      "  keep = (tmp_a >= first_edge)\n",
      "c:\\users\\hamis\\appdata\\local\\programs\\python\\python38-32\\lib\\site-packages\\numpy\\lib\\histograms.py:840: RuntimeWarning: invalid value encountered in less_equal\n",
      "  keep &= (tmp_a <= last_edge)\n",
      "<ipython-input-60-820038c6f139>:4: RuntimeWarning: invalid value encountered in log10\n",
      "  ax.hist(np.log10(highDiffs), bins = bns, histtype = 'step', density = True, label = 'High rate')\n",
      "c:\\users\\hamis\\appdata\\local\\programs\\python\\python38-32\\lib\\site-packages\\numpy\\lib\\histograms.py:839: RuntimeWarning: invalid value encountered in greater_equal\n",
      "  keep = (tmp_a >= first_edge)\n",
      "c:\\users\\hamis\\appdata\\local\\programs\\python\\python38-32\\lib\\site-packages\\numpy\\lib\\histograms.py:840: RuntimeWarning: invalid value encountered in less_equal\n",
      "  keep &= (tmp_a <= last_edge)\n"
     ]
    },
    {
     "data": {
      "image/png": "[encoded data removed]",
      "text/plain": [
       "<Figure size 432x288 with 1 Axes>"
      ]
     },
     "metadata": {
      "needs_background": "light"
     },
     "output_type": "display_data"
    }
   ],
   "source": [
    "bns = 400\n",
    "ax = pp.subplot(1,1,1)\n",
    "ax.hist(np.log10(allDiffs), bins = bns, histtype = 'step', density = True, label = 'All times')\n",
    "ax.hist(np.log10(highDiffs), bins = bns, histtype = 'step', density = True, label = 'High rate')\n",
    "ax.hist(np.log10(lowDiffs), bins = bns, histtype = 'step', density = True, label = 'Low rate')\n",
    "ax.grid()\n",
    "ax.set_axisbelow(True)\n",
    "ax.set_xlim(1,6.1)\n",
    "ax.set_ylim(-0.05,0.8)\n",
    "ax.legend(loc = 'upper left')\n",
    "ax.set_ylabel(\"Normalized Counts\")\n",
    "ax.set_xlabel(r\"$\\mathrm{log}_{10} \\left(\\Delta t/\\mathrm{ns}\\right)$\")\n",
    "ax.set_title(\"Normalized Time Difference between Consecutive Hits\\n Third Threshold\")\n",
    "pp.show()"
   ]
  },
  {
   "cell_type": "code",
   "execution_count": 61,
   "metadata": {},
   "outputs": [
    {
     "name": "stdout",
     "output_type": "stream",
     "text": [
      "Cleared variables from memory\n",
      "\n"
     ]
    }
   ],
   "source": [
    "clearTimeDiff()"
   ]
  },
  {
   "cell_type": "markdown",
   "metadata": {},
   "source": [
    "# Highest Threshold"
   ]
  },
  {
   "cell_type": "code",
   "execution_count": 68,
   "metadata": {},
   "outputs": [
    {
     "data": {
      "image/png": "[encoded data removed]",
      "text/plain": [
       "<Figure size 432x288 with 1 Axes>"
      ]
     },
     "metadata": {
      "needs_background": "light"
     },
     "output_type": "display_data"
    }
   ],
   "source": [
    "#pp.close()\n",
    "threshold = 20\n",
    "\n",
    "one_s_bins, *trash = np.histogram(time[np.where(np.logical_and(channel==4,edge==0))],bins=60)\n",
    "\n",
    "pp.hist(one_s_bins,bins=200,label = \"one_s_bins\",histtype = 'step')\n",
    "pp.legend()\n",
    "pp.xlabel(\"x axis\")\n",
    "pp.xticks([threshold])\n",
    "pp.axvline(x=threshold, ymin=0, ymax=6, color = \"gold\")\n",
    "pp.title(\"Data Histogram\")\n",
    "pp.show()"
   ]
  },
  {
   "cell_type": "code",
   "execution_count": 69,
   "metadata": {},
   "outputs": [
    {
     "name": "stdout",
     "output_type": "stream",
     "text": [
      "0\n",
      "\n",
      "3\n",
      "\n",
      "5\n",
      "\n",
      "23\n",
      "\n",
      "24\n",
      "\n",
      "34\n",
      "\n",
      "36\n",
      "\n",
      "40\n",
      "\n",
      "41\n",
      "\n",
      "44\n",
      "\n",
      "47\n",
      "\n",
      "53\n",
      "\n",
      "54\n",
      "\n"
     ]
    }
   ],
   "source": [
    "pp.close() ## I Run Into A Memory Error Here ##################################################################################\n",
    "xtic=[0]   ####################################################################################################################\n",
    "lowTimeRanges = []\n",
    "highTimeRanges = []\n",
    "i = 0\n",
    "lowTime = []\n",
    "highTime = []\n",
    "while i < len(one_s_bins):\n",
    "    print(i)\n",
    "    print()\n",
    "    if one_s_bins[i] < threshold:\n",
    "        startSecond = i\n",
    "        while one_s_bins[i] < threshold:\n",
    "            if i+1 == len(one_s_bins):\n",
    "                i += 1\n",
    "                break\n",
    "            else:\n",
    "                lowTime.append(i)\n",
    "                i += 1\n",
    "        endSecond = i\n",
    "        lowTimeRanges.append(np.array([startSecond,endSecond]))\n",
    "        xtic.append(endSecond)\n",
    "    else:\n",
    "        startSecond = i\n",
    "        while one_s_bins[i] >= threshold:\n",
    "            if i+1 == len(one_s_bins):\n",
    "                i += 1\n",
    "                break\n",
    "            else:\n",
    "                highTime.append(i)\n",
    "                i += 1\n",
    "        endSecond = i\n",
    "        highTimeRanges.append(np.array([startSecond,endSecond]))\n",
    "        xtic.append(endSecond)\n",
    "\n",
    "#lowTime = np.array(lowTime)\n",
    "#highTime = np.array(highTime)\n",
    "lowTimeRanges = np.array(lowTimeRanges)\n",
    "highTimeRanges = np.array(highTimeRanges)"
   ]
  },
  {
   "cell_type": "code",
   "execution_count": 70,
   "metadata": {},
   "outputs": [
    {
     "data": {
      "image/png": "[encoded data removed]",
      "text/plain": [
       "<Figure size 432x288 with 1 Axes>"
      ]
     },
     "metadata": {
      "needs_background": "light"
     },
     "output_type": "display_data"
    }
   ],
   "source": [
    "tempTime = highTime + lowTime\n",
    "endTime = 1 + max(tempTime)\n",
    "\n",
    "bns = []\n",
    "i = 0\n",
    "while i <= endTime:\n",
    "    bns.append(i)\n",
    "    i += 1\n",
    "    \n",
    "pp.hist(highTime,bins=bns,label=\"high time\", histtype = 'bar', color = \"gold\")\n",
    "pp.hist(lowTime,bins=bns,label=\"low time\", histtype = 'bar', color = \"darkorange\")\n",
    "pp.legend()\n",
    "pp.xlabel(\"time [s]\")\n",
    "pp.yticks([])\n",
    "pp.xticks(xtic)\n",
    "pp.title(\"Threshold Timeline\")\n",
    "pp.show()"
   ]
  },
  {
   "cell_type": "code",
   "execution_count": 71,
   "metadata": {},
   "outputs": [
    {
     "name": "stdout",
     "output_type": "stream",
     "text": [
      "[[ 0  3]\n",
      " [ 5 23]\n",
      " [24 34]\n",
      " [36 40]\n",
      " [41 44]\n",
      " [47 53]\n",
      " [54 60]]\n"
     ]
    }
   ],
   "source": [
    "print(lowTimeRanges)"
   ]
  },
  {
   "cell_type": "code",
   "execution_count": 72,
   "metadata": {},
   "outputs": [
    {
     "name": "stdout",
     "output_type": "stream",
     "text": [
      "[[ 3  5]\n",
      " [23 24]\n",
      " [34 36]\n",
      " [40 41]\n",
      " [44 47]\n",
      " [53 54]]\n"
     ]
    }
   ],
   "source": [
    "print(highTimeRanges)"
   ]
  },
  {
   "cell_type": "code",
   "execution_count": 73,
   "metadata": {},
   "outputs": [],
   "source": [
    "pp.close()\n",
    "def getDiffs(timePairs):\n",
    "    diffList = []\n",
    "    for pair in timePairs:\n",
    "        timeValues = channel1_rising[np.logical_and(channel1_rising > (pair[0]*1e9), channel1_rising < (pair[1]*1e9))]\n",
    "        theseDiffs = list(timeValues[1:]-timeValues[:-1])\n",
    "        diffList = diffList + theseDiffs\n",
    "        \n",
    "    return np.array(diffList)\n",
    "\n",
    "lowDiffs = getDiffs(lowTimeRanges)\n",
    "highDiffs = getDiffs(highTimeRanges)\n",
    "allDiffs = np.array(list(lowDiffs) + list(highDiffs))"
   ]
  },
  {
   "cell_type": "code",
   "execution_count": 74,
   "metadata": {},
   "outputs": [
    {
     "name": "stdout",
     "output_type": "stream",
     "text": [
      "293724\n",
      "\n",
      "69120\n"
     ]
    }
   ],
   "source": [
    "print(len(lowDiffs))\n",
    "print()\n",
    "print(len(highDiffs))"
   ]
  },
  {
   "cell_type": "code",
   "execution_count": 75,
   "metadata": {},
   "outputs": [
    {
     "name": "stderr",
     "output_type": "stream",
     "text": [
      "<ipython-input-75-77489f8d3cd8>:3: RuntimeWarning: invalid value encountered in log10\n",
      "  ax2.hist(np.log10(allDiffs), bins = bns, histtype = 'step', density = True, label = 'All times')\n",
      "c:\\users\\hamis\\appdata\\local\\programs\\python\\python38-32\\lib\\site-packages\\numpy\\lib\\histograms.py:839: RuntimeWarning: invalid value encountered in greater_equal\n",
      "  keep = (tmp_a >= first_edge)\n",
      "c:\\users\\hamis\\appdata\\local\\programs\\python\\python38-32\\lib\\site-packages\\numpy\\lib\\histograms.py:840: RuntimeWarning: invalid value encountered in less_equal\n",
      "  keep &= (tmp_a <= last_edge)\n",
      "<ipython-input-75-77489f8d3cd8>:4: RuntimeWarning: invalid value encountered in log10\n",
      "  ax2.hist(np.log10(highDiffs), bins = bns, histtype = 'step', density = True, label = 'High rate')\n",
      "c:\\users\\hamis\\appdata\\local\\programs\\python\\python38-32\\lib\\site-packages\\numpy\\lib\\histograms.py:839: RuntimeWarning: invalid value encountered in greater_equal\n",
      "  keep = (tmp_a >= first_edge)\n",
      "c:\\users\\hamis\\appdata\\local\\programs\\python\\python38-32\\lib\\site-packages\\numpy\\lib\\histograms.py:840: RuntimeWarning: invalid value encountered in less_equal\n",
      "  keep &= (tmp_a <= last_edge)\n"
     ]
    },
    {
     "data": {
      "image/png": "[encoded data removed]",
      "text/plain": [
       "<Figure size 432x288 with 1 Axes>"
      ]
     },
     "metadata": {
      "needs_background": "light"
     },
     "output_type": "display_data"
    }
   ],
   "source": [
    "bns = 400\n",
    "ax2 = pp.subplot(1,1,1)\n",
    "ax2.hist(np.log10(allDiffs), bins = bns, histtype = 'step', density = True, label = 'All times')\n",
    "ax2.hist(np.log10(highDiffs), bins = bns, histtype = 'step', density = True, label = 'High rate')\n",
    "ax2.hist(np.log10(lowDiffs), bins = bns, histtype = 'step', density = True, label = 'Low rate')\n",
    "ax2.grid()\n",
    "ax2.set_axisbelow(True)\n",
    "ax2.set_xlim(1,6.1)\n",
    "ax2.set_ylim(-0.05,0.8)\n",
    "ax2.legend(loc = 'upper left')\n",
    "ax2.set_ylabel(\"Normalized Counts\")\n",
    "ax2.set_xlabel(r\"$\\mathrm{log}_{10} \\left(\\Delta t/\\mathrm{ns}\\right)$\")\n",
    "ax2.set_title(\"Normalized Time Difference between Consecutive Hits\\nHighest Threshold\")\n",
    "pp.show()"
   ]
  },
  {
   "cell_type": "code",
   "execution_count": 78,
   "metadata": {},
   "outputs": [
    {
     "name": "stdout",
     "output_type": "stream",
     "text": [
      "Cleared variables from memory\n",
      "\n"
     ]
    }
   ],
   "source": [
    "pp.close()\n",
    "clearTimeDiff()"
   ]
  },
  {
   "cell_type": "markdown",
   "metadata": {},
   "source": [
    "Make a histogram to chose a threshold for each threshold!\n",
    "Maybe baseline +20% or something?\n",
    "\n"
   ]
  },
  {
   "cell_type": "markdown",
   "metadata": {},
   "source": [
    "## Look for Coincidences"
   ]
  },
  {
   "cell_type": "code",
   "execution_count": 79,
   "metadata": {},
   "outputs": [],
   "source": [
    "upData =   np.sort(time[np.where( np.logical_and(channel==1, edge==0))])\n",
    "downData = np.sort(time[np.where( np.logical_and(channel==5, edge==0))])"
   ]
  },
  {
   "cell_type": "code",
   "execution_count": 80,
   "metadata": {},
   "outputs": [
    {
     "data": {
      "text/plain": [
       "365557"
      ]
     },
     "execution_count": 80,
     "metadata": {},
     "output_type": "execute_result"
    }
   ],
   "source": [
    "len(upData)"
   ]
  },
  {
   "cell_type": "code",
   "execution_count": 81,
   "metadata": {},
   "outputs": [
    {
     "data": {
      "text/plain": [
       "514659"
      ]
     },
     "execution_count": 81,
     "metadata": {},
     "output_type": "execute_result"
    }
   ],
   "source": [
    "len(downData)"
   ]
  },
  {
   "cell_type": "code",
   "execution_count": 82,
   "metadata": {},
   "outputs": [],
   "source": [
    "def coincidences(up, down):\n",
    "    longDiffs = []\n",
    "    shortDiffs = []\n",
    "    sharpDiffs = []\n",
    "    masterList = []\n",
    "    \n",
    "    if len(up) > len(down): # decide which (up or down) is a longer list\n",
    "        short = down; long = up\n",
    "    else:\n",
    "        short = up; long = down\n",
    "        \n",
    "    for i in range(len(short)): # parse over the shorter list to save time\n",
    "        t = short[i]            # value at that index\n",
    "        tcoin = 25              # coincidence time in 'ns'\n",
    "        tmin = t-tcoin; tmax = t+tcoin\n",
    "        potentialList = long[np.where(np.logical_and(long > tmin, long < tmax))]\n",
    "        \n",
    "        if len(potentialList) > 0:\n",
    "            # print(\"values at \")\n",
    "            # print(i)\n",
    "            # print()\n",
    "            if len(potentialList) > 1:\n",
    "                # there are multiple values\n",
    "                continue\n",
    "            nextEvent = short[ i + 1 ] - t\n",
    "            if nextEvent > 10**4.2:\n",
    "                longDiffs.append(t - potentialList[0]) # low noise time?\n",
    "            else:\n",
    "                shortDiffs.append(t - potentialList[0]) # high noise time?\n",
    "            \n",
    "            if nextEvent > 10**3.4 and nextEvent < 10**3.6:\n",
    "                sharpDiffs.append(t - potentialList[0])\n",
    "            \n",
    "            masterList.append(np.array([t, potentialList[0]]))\n",
    "        else:     \n",
    "            #print(\"no values at \")\n",
    "            #print(i)\n",
    "            #print()\n",
    "            masterList.append(np.array([0,0]))\n",
    "    \n",
    "    longDiffs = np.array(longDiffs)\n",
    "    shortDiffs = np.array(shortDiffs)\n",
    "    sharpDiffs = np.array(sharpDiffs)\n",
    "    masterList = np.array(masterList)\n",
    "    \n",
    "    return longDiffs, shortDiffs, sharpDiffs, masterList"
   ]
  },
  {
   "cell_type": "code",
   "execution_count": 9,
   "metadata": {},
   "outputs": [
    {
     "name": "stdout",
     "output_type": "stream",
     "text": [
      "3:00:35.730639\n",
      "\n",
      "Long => \n",
      "1601\n",
      "\n",
      "Short => \n",
      "1799\n",
      "\n",
      "Sharp => \n",
      "272\n",
      "\n",
      "Master => \n",
      "1985676\n"
     ]
    },
    {
     "data": {
      "text/plain": [
       "<function TextIOWrapper.close()>"
      ]
     },
     "execution_count": 9,
     "metadata": {},
     "output_type": "execute_result"
    }
   ],
   "source": [
    "start = datetime.now()\n",
    "long, short, sharp, master = coincidences(upData,downData) # search for coincidences\n",
    "end = datetime.now()\n",
    "print(end-start)\n",
    "\n",
    "f= open('long.txt','w+') # save data to coresponding text files\n",
    "np.savetxt(f, long)\n",
    "print(\"\\nLong => \")\n",
    "print(len(long))\n",
    "f.close\n",
    " \n",
    "f= open('short.txt','w+')\n",
    "np.savetxt(f, short)\n",
    "print(\"\\nShort => \")\n",
    "print(len(short))\n",
    "f.close\n",
    "\n",
    "f= open('sharp.txt','w+')\n",
    "np.savetxt(f, sharp)\n",
    "print(\"\\nSharp => \")\n",
    "print(len(sharp))\n",
    "f.close\n",
    "\n",
    "f= open('master.txt','w+')\n",
    "np.savetxt(f, master)\n",
    "print(\"\\nMaster => \")\n",
    "print(len(master))\n",
    "f.close"
   ]
  },
  {
   "cell_type": "code",
   "execution_count": 18,
   "metadata": {},
   "outputs": [
    {
     "data": {
      "image/png": "[encoded data removed]",
      "text/plain": [
       "<Figure size 432x288 with 1 Axes>"
      ]
     },
     "metadata": {
      "needs_background": "light"
     },
     "output_type": "display_data"
    }
   ],
   "source": [
    "ax3 = pp.subplot(1,1,1)\n",
    "bns = 100\n",
    "ax3.hist(long, bins = bns, histtype = 'step', density = True, label = 'Long')\n",
    "#ax3.hist(short, bins = bns, histtype = 'step', density = True, label = 'Short')\n",
    "#ax3.hist(sharp, bins = bns, histtype = 'step', density = True, label = 'Sharp')\n",
    "ax3.set_xlabel(\"Time Between Coincidence hits [ns]\")\n",
    "ax3.set_ylabel(\"I Dont Know\")\n",
    "ax3.set_ylim([0, 0.06])\n",
    "ax3.legend()\n",
    "pp.show()"
   ]
  },
  {
   "cell_type": "code",
   "execution_count": 19,
   "metadata": {},
   "outputs": [
    {
     "data": {
      "image/png": "[encoded data removed]",
      "text/plain": [
       "<Figure size 432x288 with 1 Axes>"
      ]
     },
     "metadata": {
      "needs_background": "light"
     },
     "output_type": "display_data"
    }
   ],
   "source": [
    "ax3 = pp.subplot(1,1,1)\n",
    "ax3.hist(short, bins = bns, histtype = 'step', density = True, label = 'Short', color = 'green')\n",
    "ax3.set_xlabel(\"Time Between Coincidence hits [ns]\")\n",
    "ax3.set_ylabel(\"I Dont Know\")\n",
    "ax3.set_ylim([0, 0.06])\n",
    "ax3.legend()\n",
    "pp.show()"
   ]
  },
  {
   "cell_type": "code",
   "execution_count": 15,
   "metadata": {},
   "outputs": [
    {
     "data": {
      "image/png": "[encoded data removed]",
      "text/plain": [
       "<Figure size 432x288 with 1 Axes>"
      ]
     },
     "metadata": {
      "needs_background": "light"
     },
     "output_type": "display_data"
    }
   ],
   "source": [
    "ax3 = pp.subplot(1,1,1)\n",
    "ax3.hist(sharp, bins = bns, histtype = 'step', density = True, label = 'Sharp', color = 'gold')\n",
    "ax3.set_xlabel(\"Time Between Coincidence hits [ns]\")\n",
    "ax3.set_ylabel(\"I Dont Know\")\n",
    "#ax3.set_ylim([0, 0.036])\n",
    "ax3.legend(loc=\"upper left\")\n",
    "pp.show()"
   ]
  },
  {
   "cell_type": "code",
   "execution_count": 17,
   "metadata": {},
   "outputs": [
    {
     "data": {
      "image/png": "[encoded data removed]",
      "text/plain": [
       "<Figure size 432x288 with 1 Axes>"
      ]
     },
     "metadata": {
      "needs_background": "light"
     },
     "output_type": "display_data"
    }
   ],
   "source": [
    "ax3 = pp.subplot(1,1,1)\n",
    "bns = 100\n",
    "ax3.hist(long, bins = bns, histtype = 'step', density = True, label = 'Long')\n",
    "ax3.hist(short, bins = bns, histtype = 'step', density = True, label = 'Short', color = 'green')\n",
    "ax3.hist(sharp, bins = bns, histtype = 'step', density = True, label = 'Sharp',color = 'gold')\n",
    "ax3.set_xlabel(\"Time Between Coincidence hits [ns]\")\n",
    "ax3.set_ylabel(\"I Dont Know\")\n",
    "#ax3.set_ylim([0, 0.036])\n",
    "ax3.legend()\n",
    "pp.show()"
   ]
  },
  {
   "cell_type": "code",
   "execution_count": null,
   "metadata": {},
   "outputs": [],
   "source": []
  }
 ],
 "metadata": {
  "kernelspec": {
   "display_name": "Python 3",
   "language": "python",
   "name": "python3"
  },
  "language_info": {
   "codemirror_mode": {
    "name": "ipython",
    "version": 3
   },
   "file_extension": ".py",
   "mimetype": "text/x-python",
   "name": "python",
   "nbconvert_exporter": "python",
   "pygments_lexer": "ipython3",
   "version": "3.8.5"
  }
 },
 "nbformat": 4,
 "nbformat_minor": 4
}
