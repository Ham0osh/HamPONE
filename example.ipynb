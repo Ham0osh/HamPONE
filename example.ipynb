{
 "cells": [
  {
   "cell_type": "code",
   "execution_count": 1,
   "metadata": {},
   "outputs": [],
   "source": [
    "import numpy as np\n",
    "import pandas as pd\n",
    "import matplotlib.pyplot as pp"
   ]
  },
  {
   "cell_type": "code",
   "execution_count": 2,
   "metadata": {},
   "outputs": [],
   "source": [
    "c = pd.read_csv(\"unpacked.txt\", delimiter=\"\\t\", header=None)\n",
    "channel = np.array(c[0])\n",
    "edge    = np.array(c[1])\n",
    "time    = np.array(c[2])"
   ]
  },
  {
   "cell_type": "code",
   "execution_count": 3,
   "metadata": {
    "scrolled": true
   },
   "outputs": [
    {
     "data": {
      "text/html": [
       "<div>\n",
       "<style scoped>\n",
       "    .dataframe tbody tr th:only-of-type {\n",
       "        vertical-align: middle;\n",
       "    }\n",
       "\n",
       "    .dataframe tbody tr th {\n",
       "        vertical-align: top;\n",
       "    }\n",
       "\n",
       "    .dataframe thead th {\n",
       "        text-align: right;\n",
       "    }\n",
       "</style>\n",
       "<table border=\"1\" class=\"dataframe\">\n",
       "  <thead>\n",
       "    <tr style=\"text-align: right;\">\n",
       "      <th></th>\n",
       "      <th>0</th>\n",
       "      <th>1</th>\n",
       "      <th>2</th>\n",
       "    </tr>\n",
       "  </thead>\n",
       "  <tbody>\n",
       "    <tr>\n",
       "      <th>0</th>\n",
       "      <td>0</td>\n",
       "      <td>0</td>\n",
       "      <td>1.000000e+05</td>\n",
       "    </tr>\n",
       "    <tr>\n",
       "      <th>1</th>\n",
       "      <td>1</td>\n",
       "      <td>0</td>\n",
       "      <td>5.800500e+03</td>\n",
       "    </tr>\n",
       "    <tr>\n",
       "      <th>2</th>\n",
       "      <td>1</td>\n",
       "      <td>1</td>\n",
       "      <td>5.835400e+03</td>\n",
       "    </tr>\n",
       "    <tr>\n",
       "      <th>3</th>\n",
       "      <td>1</td>\n",
       "      <td>0</td>\n",
       "      <td>8.933000e+03</td>\n",
       "    </tr>\n",
       "    <tr>\n",
       "      <th>4</th>\n",
       "      <td>1</td>\n",
       "      <td>1</td>\n",
       "      <td>8.967800e+03</td>\n",
       "    </tr>\n",
       "    <tr>\n",
       "      <th>...</th>\n",
       "      <td>...</td>\n",
       "      <td>...</td>\n",
       "      <td>...</td>\n",
       "    </tr>\n",
       "    <tr>\n",
       "      <th>12740338</th>\n",
       "      <td>6</td>\n",
       "      <td>1</td>\n",
       "      <td>5.871848e+10</td>\n",
       "    </tr>\n",
       "    <tr>\n",
       "      <th>12740339</th>\n",
       "      <td>6</td>\n",
       "      <td>0</td>\n",
       "      <td>5.871849e+10</td>\n",
       "    </tr>\n",
       "    <tr>\n",
       "      <th>12740340</th>\n",
       "      <td>6</td>\n",
       "      <td>1</td>\n",
       "      <td>5.871849e+10</td>\n",
       "    </tr>\n",
       "    <tr>\n",
       "      <th>12740341</th>\n",
       "      <td>9</td>\n",
       "      <td>1</td>\n",
       "      <td>5.871840e+10</td>\n",
       "    </tr>\n",
       "    <tr>\n",
       "      <th>12740342</th>\n",
       "      <td>9</td>\n",
       "      <td>0</td>\n",
       "      <td>5.871850e+10</td>\n",
       "    </tr>\n",
       "  </tbody>\n",
       "</table>\n",
       "<p>12740343 rows × 3 columns</p>\n",
       "</div>"
      ],
      "text/plain": [
       "          0  1             2\n",
       "0         0  0  1.000000e+05\n",
       "1         1  0  5.800500e+03\n",
       "2         1  1  5.835400e+03\n",
       "3         1  0  8.933000e+03\n",
       "4         1  1  8.967800e+03\n",
       "...      .. ..           ...\n",
       "12740338  6  1  5.871848e+10\n",
       "12740339  6  0  5.871849e+10\n",
       "12740340  6  1  5.871849e+10\n",
       "12740341  9  1  5.871840e+10\n",
       "12740342  9  0  5.871850e+10\n",
       "\n",
       "[12740343 rows x 3 columns]"
      ]
     },
     "execution_count": 3,
     "metadata": {},
     "output_type": "execute_result"
    }
   ],
   "source": [
    "c"
   ]
  },
  {
   "cell_type": "code",
   "execution_count": 3,
   "metadata": {},
   "outputs": [
    {
     "data": {
      "text/plain": [
       "999"
      ]
     },
     "metadata": {},
     "output_type": "display_data"
    }
   ],
   "source": [
    "from IPython.display import clear_output\n",
    "\n",
    "for _ in range(1000):\n",
    "    clear_output(wait=True)\n",
    "    display(_)"
   ]
  },
  {
   "cell_type": "code",
   "execution_count": 4,
   "metadata": {
    "scrolled": true
   },
   "outputs": [
    {
     "data": {
      "image/png": "[encoded data removed]",
      "text/plain": [
       "<Figure size 432x288 with 1 Axes>"
      ]
     },
     "metadata": {
      "needs_background": "light"
     },
     "output_type": "display_data"
    }
   ],
   "source": [
    "pp.plot(time[channel==0],'o-')\n",
    "pp.show()"
   ]
  },
  {
   "cell_type": "code",
   "execution_count": 5,
   "metadata": {},
   "outputs": [
    {
     "data": {
      "image/png": "[encoded data removed]",
      "text/plain": [
       "<Figure size 432x288 with 1 Axes>"
      ]
     },
     "metadata": {
      "needs_background": "light"
     },
     "output_type": "display_data"
    }
   ],
   "source": [
    "pp.plot(time[channel==0])\n",
    "pp.xlim(46.8e4, 47e4)\n",
    "pp.ylim(46e9, 48e9)\n",
    "pp.show()"
   ]
  },
  {
   "cell_type": "code",
   "execution_count": 6,
   "metadata": {},
   "outputs": [
    {
     "name": "stdout",
     "output_type": "stream",
     "text": [
      "Total time : 58.2777 s\n"
     ]
    }
   ],
   "source": [
    "print(\"Total time :\", len(time[channel==0])*1e5/1e9, \"s\")"
   ]
  },
  {
   "cell_type": "code",
   "execution_count": 7,
   "metadata": {},
   "outputs": [
    {
     "data": {
      "image/png": "[encoded data removed]",
      "text/plain": [
       "<Figure size 432x288 with 1 Axes>"
      ]
     },
     "metadata": {
      "needs_background": "light"
     },
     "output_type": "display_data"
    }
   ],
   "source": [
    "pp.hist(time[channel==1], bins=200, label=\"up-facing\", histtype=\"step\")\n",
    "pp.hist(time[channel==5], bins=200, label=\"down-facing\", histtype=\"step\")\n",
    "pp.yscale(\"log\")\n",
    "pp.legend()\n",
    "pp.show()"
   ]
  },
  {
   "cell_type": "code",
   "execution_count": 7,
   "metadata": {
    "scrolled": true
   },
   "outputs": [
    {
     "data": {
      "image/png": "[encoded data removed]",
      "text/plain": [
       "<Figure size 432x288 with 1 Axes>"
      ]
     },
     "metadata": {
      "needs_background": "light"
     },
     "output_type": "display_data"
    }
   ],
   "source": [
    "pp.hist(time[channel==1], bins=200, label=\"up-facing\", histtype=\"step\")\n",
    "pp.hist(time[channel==5], bins=200, label=\"down-facing\", histtype=\"step\")\n",
    "pp.hist(time[channel==0], bins=200, label=\"live time\", histtype=\"step\")\n",
    "pp.yscale(\"log\")\n",
    "pp.legend()\n",
    "pp.show()"
   ]
  },
  {
   "cell_type": "code",
   "execution_count": 45,
   "metadata": {},
   "outputs": [
    {
     "data": {
      "text/plain": [
       "1739850"
      ]
     },
     "execution_count": 45,
     "metadata": {},
     "output_type": "execute_result"
    }
   ],
   "source": [
    "ch1r = np.sort(times[np.where(np.logical_and(channel==1,edge==0))])\n",
    "ch2r = np.sort(times[np.where(np.logical_and(channel==2,edge==0))])\n",
    "\n",
    "len(ch1r)-len(ch2r)"
   ]
  },
  {
   "cell_type": "code",
   "execution_count": 15,
   "metadata": {},
   "outputs": [],
   "source": [
    "import time"
   ]
  },
  {
   "cell_type": "code",
   "execution_count": 36,
   "metadata": {
    "scrolled": true
   },
   "outputs": [
    {
     "name": "stdout",
     "output_type": "stream",
     "text": [
      "More than 1!!\n",
      "More than 1!!\n",
      "More than 1!!\n",
      "More than 1!!\n",
      "More than 1!!\n",
      "More than 1!!\n",
      "More than 1!!\n",
      "More than 1!!\n",
      "More than 1!!\n",
      "More than 1!!\n",
      "More than 1!!\n",
      "More than 1!!\n",
      "More than 1!!\n",
      "More than 1!!\n",
      "More than 1!!\n",
      "More than 1!!\n",
      "More than 1!!\n",
      "More than 1!!\n",
      "More than 1!!\n",
      "More than 1!!\n",
      "More than 1!!\n",
      "More than 1!!\n",
      "More than 1!!\n",
      "More than 1!!\n",
      "More than 1!!\n",
      "More than 1!!\n",
      "More than 1!!\n",
      "More than 1!!\n",
      "More than 1!!\n",
      "More than 1!!\n",
      "More than 1!!\n",
      "More than 1!!\n",
      "More than 1!!\n",
      "More than 1!!\n",
      "More than 1!!\n",
      "More than 1!!\n",
      "More than 1!!\n",
      "More than 1!!\n",
      "More than 1!!\n",
      "More than 1!!\n",
      "More than 1!!\n",
      "More than 1!!\n",
      "More than 1!!\n",
      "More than 1!!\n",
      "More than 1!!\n",
      "More than 1!!\n",
      "More than 1!!\n",
      "More than 1!!\n",
      "More than 1!!\n",
      "More than 1!!\n",
      "More than 1!!\n",
      "More than 1!!\n",
      "More than 1!!\n",
      "More than 1!!\n",
      "More than 1!!\n",
      "More than 1!!\n",
      "More than 1!!\n",
      "More than 1!!\n",
      "More than 1!!\n",
      "More than 1!!\n",
      "More than 1!!\n",
      "More than 1!!\n",
      "More than 1!!\n",
      "More than 1!!\n",
      "More than 1!!\n",
      "More than 1!!\n",
      "More than 1!!\n",
      "More than 1!!\n",
      "More than 1!!\n",
      "More than 1!!\n",
      "More than 1!!\n",
      "More than 1!!\n",
      "More than 1!!\n",
      "More than 1!!\n",
      "More than 1!!\n",
      "More than 1!!\n",
      "More than 1!!\n",
      "More than 1!!\n",
      "More than 1!!\n",
      "More than 1!!\n",
      "More than 1!!\n",
      "More than 1!!\n",
      "More than 1!!\n",
      "More than 1!!\n",
      "More than 1!!\n",
      "More than 1!!\n",
      "More than 1!!\n",
      "More than 1!!\n",
      "More than 1!!\n",
      "More than 1!!\n",
      "More than 1!!\n",
      "More than 1!!\n",
      "More than 1!!\n",
      "More than 1!!\n",
      "More than 1!!\n",
      "More than 1!!\n",
      "More than 1!!\n",
      "More than 1!!\n",
      "More than 1!!\n",
      "More than 1!!\n",
      "More than 1!!\n",
      "More than 1!!\n",
      "More than 1!!\n",
      "More than 1!!\n",
      "More than 1!!\n",
      "More than 1!!\n",
      "More than 1!!\n",
      "More than 1!!\n",
      "More than 1!!\n",
      "More than 1!!\n",
      "More than 1!!\n",
      "More than 1!!\n",
      "More than 1!!\n",
      "More than 1!!\n",
      "More than 1!!\n",
      "22.0 : 20.73921513557434\n"
     ]
    }
   ],
   "source": [
    "start = time.time()\n",
    "keep = []\n",
    "for i in range(len(ch1r)-1):\n",
    "    pot_list = ch2r[np.where(np.logical_and(ch2r>ch1r[i],ch2r<ch1r[i+1]))]\n",
    "    if len(pot_list)==0:\n",
    "        keep.append(ch1r[i])\n",
    "    elif len(pot_list)>1:\n",
    "        #print(\"More than 1!!\")\n",
    "if ch2r[-1]<ch1r[-1]:  \n",
    "    keep.append(ch1r[-1])\n",
    "\n",
    "end = time.time()\n",
    "deltat = end-start\n",
    "sec = deltat % 60\n",
    "minute = (deltat-sec)/60\n",
    "print(minute,':',sec)"
   ]
  },
  {
   "cell_type": "code",
   "execution_count": 37,
   "metadata": {},
   "outputs": [
    {
     "name": "stdout",
     "output_type": "stream",
     "text": [
      "88.0 : 36.613638162612915\n"
     ]
    }
   ],
   "source": [
    "keep2 = []\n",
    "start = time.time()\n",
    "for i in range(len(ch1r)-1):\n",
    "    high = ch2r - ch1r[i+1]\n",
    "    low = ch2r - ch1r[i]\n",
    "    \n",
    "    positive_diff = len(low[low>0])-len(high[high>0])\n",
    "    if positive_diff == 0:\n",
    "        keep2.append(ch1r[i])\n",
    "\n",
    "if ch2r[-1]<ch1r[-1]:  \n",
    "    keep2.append(ch1r[-1])\n",
    "end = time.time()\n",
    "deltat = end-start\n",
    "sec = deltat % 60\n",
    "minute = (deltat-sec)/60\n",
    "print(minute,':',sec)"
   ]
  },
  {
   "cell_type": "code",
   "execution_count": 47,
   "metadata": {},
   "outputs": [
    {
     "data": {
      "text/plain": [
       "0.7252202067085886"
      ]
     },
     "execution_count": 47,
     "metadata": {},
     "output_type": "execute_result"
    }
   ],
   "source": [
    "len(keep)/len(ch1r)"
   ]
  },
  {
   "cell_type": "code",
   "execution_count": null,
   "metadata": {},
   "outputs": [],
   "source": []
  }
 ],
 "metadata": {
  "kernelspec": {
   "display_name": "Python 3",
   "language": "python",
   "name": "python3"
  },
  "language_info": {
   "codemirror_mode": {
    "name": "ipython",
    "version": 3
   },
   "file_extension": ".py",
   "mimetype": "text/x-python",
   "name": "python",
   "nbconvert_exporter": "python",
   "pygments_lexer": "ipython3",
   "version": "3.8.5"
  }
 },
 "nbformat": 4,
 "nbformat_minor": 4
}
